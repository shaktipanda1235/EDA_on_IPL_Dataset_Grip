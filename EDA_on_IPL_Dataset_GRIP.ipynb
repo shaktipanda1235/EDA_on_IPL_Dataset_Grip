{
 "cells": [
  {
   "cell_type": "markdown",
   "id": "8c0e447b",
   "metadata": {},
   "source": [
    "# Importing Libraries"
   ]
  },
  {
   "cell_type": "code",
   "execution_count": 68,
   "id": "c9d0c74d",
   "metadata": {},
   "outputs": [],
   "source": [
    "import pandas as pd\n",
    "import numpy as np\n",
    "import matplotlib.pyplot as plt\n",
    "import seaborn as sns\n",
    "\n",
    "plt.rcParams['figure.figsize']=15,8"
   ]
  },
  {
   "cell_type": "markdown",
   "id": "744b5b86",
   "metadata": {},
   "source": [
    "# Data Understanding"
   ]
  },
  {
   "cell_type": "code",
   "execution_count": 69,
   "id": "23d365dd",
   "metadata": {},
   "outputs": [
    {
     "data": {
      "text/html": [
       "<div>\n",
       "<style scoped>\n",
       "    .dataframe tbody tr th:only-of-type {\n",
       "        vertical-align: middle;\n",
       "    }\n",
       "\n",
       "    .dataframe tbody tr th {\n",
       "        vertical-align: top;\n",
       "    }\n",
       "\n",
       "    .dataframe thead th {\n",
       "        text-align: right;\n",
       "    }\n",
       "</style>\n",
       "<table border=\"1\" class=\"dataframe\">\n",
       "  <thead>\n",
       "    <tr style=\"text-align: right;\">\n",
       "      <th></th>\n",
       "      <th>match_id</th>\n",
       "      <th>inning</th>\n",
       "      <th>batting_team</th>\n",
       "      <th>bowling_team</th>\n",
       "      <th>over</th>\n",
       "      <th>ball</th>\n",
       "      <th>batsman</th>\n",
       "      <th>non_striker</th>\n",
       "      <th>bowler</th>\n",
       "      <th>is_super_over</th>\n",
       "      <th>...</th>\n",
       "      <th>bye_runs</th>\n",
       "      <th>legbye_runs</th>\n",
       "      <th>noball_runs</th>\n",
       "      <th>penalty_runs</th>\n",
       "      <th>batsman_runs</th>\n",
       "      <th>extra_runs</th>\n",
       "      <th>total_runs</th>\n",
       "      <th>player_dismissed</th>\n",
       "      <th>dismissal_kind</th>\n",
       "      <th>fielder</th>\n",
       "    </tr>\n",
       "  </thead>\n",
       "  <tbody>\n",
       "    <tr>\n",
       "      <th>0</th>\n",
       "      <td>1</td>\n",
       "      <td>1</td>\n",
       "      <td>Sunrisers Hyderabad</td>\n",
       "      <td>Royal Challengers Bangalore</td>\n",
       "      <td>1</td>\n",
       "      <td>1</td>\n",
       "      <td>DA Warner</td>\n",
       "      <td>S Dhawan</td>\n",
       "      <td>TS Mills</td>\n",
       "      <td>0</td>\n",
       "      <td>...</td>\n",
       "      <td>0</td>\n",
       "      <td>0</td>\n",
       "      <td>0</td>\n",
       "      <td>0</td>\n",
       "      <td>0</td>\n",
       "      <td>0</td>\n",
       "      <td>0</td>\n",
       "      <td>NaN</td>\n",
       "      <td>NaN</td>\n",
       "      <td>NaN</td>\n",
       "    </tr>\n",
       "    <tr>\n",
       "      <th>1</th>\n",
       "      <td>1</td>\n",
       "      <td>1</td>\n",
       "      <td>Sunrisers Hyderabad</td>\n",
       "      <td>Royal Challengers Bangalore</td>\n",
       "      <td>1</td>\n",
       "      <td>2</td>\n",
       "      <td>DA Warner</td>\n",
       "      <td>S Dhawan</td>\n",
       "      <td>TS Mills</td>\n",
       "      <td>0</td>\n",
       "      <td>...</td>\n",
       "      <td>0</td>\n",
       "      <td>0</td>\n",
       "      <td>0</td>\n",
       "      <td>0</td>\n",
       "      <td>0</td>\n",
       "      <td>0</td>\n",
       "      <td>0</td>\n",
       "      <td>NaN</td>\n",
       "      <td>NaN</td>\n",
       "      <td>NaN</td>\n",
       "    </tr>\n",
       "    <tr>\n",
       "      <th>2</th>\n",
       "      <td>1</td>\n",
       "      <td>1</td>\n",
       "      <td>Sunrisers Hyderabad</td>\n",
       "      <td>Royal Challengers Bangalore</td>\n",
       "      <td>1</td>\n",
       "      <td>3</td>\n",
       "      <td>DA Warner</td>\n",
       "      <td>S Dhawan</td>\n",
       "      <td>TS Mills</td>\n",
       "      <td>0</td>\n",
       "      <td>...</td>\n",
       "      <td>0</td>\n",
       "      <td>0</td>\n",
       "      <td>0</td>\n",
       "      <td>0</td>\n",
       "      <td>4</td>\n",
       "      <td>0</td>\n",
       "      <td>4</td>\n",
       "      <td>NaN</td>\n",
       "      <td>NaN</td>\n",
       "      <td>NaN</td>\n",
       "    </tr>\n",
       "    <tr>\n",
       "      <th>3</th>\n",
       "      <td>1</td>\n",
       "      <td>1</td>\n",
       "      <td>Sunrisers Hyderabad</td>\n",
       "      <td>Royal Challengers Bangalore</td>\n",
       "      <td>1</td>\n",
       "      <td>4</td>\n",
       "      <td>DA Warner</td>\n",
       "      <td>S Dhawan</td>\n",
       "      <td>TS Mills</td>\n",
       "      <td>0</td>\n",
       "      <td>...</td>\n",
       "      <td>0</td>\n",
       "      <td>0</td>\n",
       "      <td>0</td>\n",
       "      <td>0</td>\n",
       "      <td>0</td>\n",
       "      <td>0</td>\n",
       "      <td>0</td>\n",
       "      <td>NaN</td>\n",
       "      <td>NaN</td>\n",
       "      <td>NaN</td>\n",
       "    </tr>\n",
       "    <tr>\n",
       "      <th>4</th>\n",
       "      <td>1</td>\n",
       "      <td>1</td>\n",
       "      <td>Sunrisers Hyderabad</td>\n",
       "      <td>Royal Challengers Bangalore</td>\n",
       "      <td>1</td>\n",
       "      <td>5</td>\n",
       "      <td>DA Warner</td>\n",
       "      <td>S Dhawan</td>\n",
       "      <td>TS Mills</td>\n",
       "      <td>0</td>\n",
       "      <td>...</td>\n",
       "      <td>0</td>\n",
       "      <td>0</td>\n",
       "      <td>0</td>\n",
       "      <td>0</td>\n",
       "      <td>0</td>\n",
       "      <td>2</td>\n",
       "      <td>2</td>\n",
       "      <td>NaN</td>\n",
       "      <td>NaN</td>\n",
       "      <td>NaN</td>\n",
       "    </tr>\n",
       "  </tbody>\n",
       "</table>\n",
       "<p>5 rows × 21 columns</p>\n",
       "</div>"
      ],
      "text/plain": [
       "   match_id  inning         batting_team                 bowling_team  over  \\\n",
       "0         1       1  Sunrisers Hyderabad  Royal Challengers Bangalore     1   \n",
       "1         1       1  Sunrisers Hyderabad  Royal Challengers Bangalore     1   \n",
       "2         1       1  Sunrisers Hyderabad  Royal Challengers Bangalore     1   \n",
       "3         1       1  Sunrisers Hyderabad  Royal Challengers Bangalore     1   \n",
       "4         1       1  Sunrisers Hyderabad  Royal Challengers Bangalore     1   \n",
       "\n",
       "   ball    batsman non_striker    bowler  is_super_over  ...  bye_runs  \\\n",
       "0     1  DA Warner    S Dhawan  TS Mills              0  ...         0   \n",
       "1     2  DA Warner    S Dhawan  TS Mills              0  ...         0   \n",
       "2     3  DA Warner    S Dhawan  TS Mills              0  ...         0   \n",
       "3     4  DA Warner    S Dhawan  TS Mills              0  ...         0   \n",
       "4     5  DA Warner    S Dhawan  TS Mills              0  ...         0   \n",
       "\n",
       "   legbye_runs  noball_runs  penalty_runs  batsman_runs  extra_runs  \\\n",
       "0            0            0             0             0           0   \n",
       "1            0            0             0             0           0   \n",
       "2            0            0             0             4           0   \n",
       "3            0            0             0             0           0   \n",
       "4            0            0             0             0           2   \n",
       "\n",
       "   total_runs  player_dismissed dismissal_kind fielder  \n",
       "0           0               NaN            NaN     NaN  \n",
       "1           0               NaN            NaN     NaN  \n",
       "2           4               NaN            NaN     NaN  \n",
       "3           0               NaN            NaN     NaN  \n",
       "4           2               NaN            NaN     NaN  \n",
       "\n",
       "[5 rows x 21 columns]"
      ]
     },
     "execution_count": 69,
     "metadata": {},
     "output_type": "execute_result"
    }
   ],
   "source": [
    "dfd=pd.read_csv('deliveries.csv')\n",
    "dfd.head()"
   ]
  },
  {
   "cell_type": "code",
   "execution_count": 70,
   "id": "3c1e4fbf",
   "metadata": {},
   "outputs": [
    {
     "data": {
      "text/html": [
       "<div>\n",
       "<style scoped>\n",
       "    .dataframe tbody tr th:only-of-type {\n",
       "        vertical-align: middle;\n",
       "    }\n",
       "\n",
       "    .dataframe tbody tr th {\n",
       "        vertical-align: top;\n",
       "    }\n",
       "\n",
       "    .dataframe thead th {\n",
       "        text-align: right;\n",
       "    }\n",
       "</style>\n",
       "<table border=\"1\" class=\"dataframe\">\n",
       "  <thead>\n",
       "    <tr style=\"text-align: right;\">\n",
       "      <th></th>\n",
       "      <th>id</th>\n",
       "      <th>season</th>\n",
       "      <th>city</th>\n",
       "      <th>date</th>\n",
       "      <th>team1</th>\n",
       "      <th>team2</th>\n",
       "      <th>toss_winner</th>\n",
       "      <th>toss_decision</th>\n",
       "      <th>result</th>\n",
       "      <th>dl_applied</th>\n",
       "      <th>winner</th>\n",
       "      <th>win_by_runs</th>\n",
       "      <th>win_by_wickets</th>\n",
       "      <th>player_of_match</th>\n",
       "      <th>venue</th>\n",
       "      <th>umpire1</th>\n",
       "      <th>umpire2</th>\n",
       "      <th>umpire3</th>\n",
       "    </tr>\n",
       "  </thead>\n",
       "  <tbody>\n",
       "    <tr>\n",
       "      <th>0</th>\n",
       "      <td>1</td>\n",
       "      <td>2017</td>\n",
       "      <td>Hyderabad</td>\n",
       "      <td>2017-04-05</td>\n",
       "      <td>Sunrisers Hyderabad</td>\n",
       "      <td>Royal Challengers Bangalore</td>\n",
       "      <td>Royal Challengers Bangalore</td>\n",
       "      <td>field</td>\n",
       "      <td>normal</td>\n",
       "      <td>0</td>\n",
       "      <td>Sunrisers Hyderabad</td>\n",
       "      <td>35</td>\n",
       "      <td>0</td>\n",
       "      <td>Yuvraj Singh</td>\n",
       "      <td>Rajiv Gandhi International Stadium, Uppal</td>\n",
       "      <td>AY Dandekar</td>\n",
       "      <td>NJ Llong</td>\n",
       "      <td>NaN</td>\n",
       "    </tr>\n",
       "    <tr>\n",
       "      <th>1</th>\n",
       "      <td>2</td>\n",
       "      <td>2017</td>\n",
       "      <td>Pune</td>\n",
       "      <td>2017-04-06</td>\n",
       "      <td>Mumbai Indians</td>\n",
       "      <td>Rising Pune Supergiant</td>\n",
       "      <td>Rising Pune Supergiant</td>\n",
       "      <td>field</td>\n",
       "      <td>normal</td>\n",
       "      <td>0</td>\n",
       "      <td>Rising Pune Supergiant</td>\n",
       "      <td>0</td>\n",
       "      <td>7</td>\n",
       "      <td>SPD Smith</td>\n",
       "      <td>Maharashtra Cricket Association Stadium</td>\n",
       "      <td>A Nand Kishore</td>\n",
       "      <td>S Ravi</td>\n",
       "      <td>NaN</td>\n",
       "    </tr>\n",
       "    <tr>\n",
       "      <th>2</th>\n",
       "      <td>3</td>\n",
       "      <td>2017</td>\n",
       "      <td>Rajkot</td>\n",
       "      <td>2017-04-07</td>\n",
       "      <td>Gujarat Lions</td>\n",
       "      <td>Kolkata Knight Riders</td>\n",
       "      <td>Kolkata Knight Riders</td>\n",
       "      <td>field</td>\n",
       "      <td>normal</td>\n",
       "      <td>0</td>\n",
       "      <td>Kolkata Knight Riders</td>\n",
       "      <td>0</td>\n",
       "      <td>10</td>\n",
       "      <td>CA Lynn</td>\n",
       "      <td>Saurashtra Cricket Association Stadium</td>\n",
       "      <td>Nitin Menon</td>\n",
       "      <td>CK Nandan</td>\n",
       "      <td>NaN</td>\n",
       "    </tr>\n",
       "    <tr>\n",
       "      <th>3</th>\n",
       "      <td>4</td>\n",
       "      <td>2017</td>\n",
       "      <td>Indore</td>\n",
       "      <td>2017-04-08</td>\n",
       "      <td>Rising Pune Supergiant</td>\n",
       "      <td>Kings XI Punjab</td>\n",
       "      <td>Kings XI Punjab</td>\n",
       "      <td>field</td>\n",
       "      <td>normal</td>\n",
       "      <td>0</td>\n",
       "      <td>Kings XI Punjab</td>\n",
       "      <td>0</td>\n",
       "      <td>6</td>\n",
       "      <td>GJ Maxwell</td>\n",
       "      <td>Holkar Cricket Stadium</td>\n",
       "      <td>AK Chaudhary</td>\n",
       "      <td>C Shamshuddin</td>\n",
       "      <td>NaN</td>\n",
       "    </tr>\n",
       "    <tr>\n",
       "      <th>4</th>\n",
       "      <td>5</td>\n",
       "      <td>2017</td>\n",
       "      <td>Bangalore</td>\n",
       "      <td>2017-04-08</td>\n",
       "      <td>Royal Challengers Bangalore</td>\n",
       "      <td>Delhi Daredevils</td>\n",
       "      <td>Royal Challengers Bangalore</td>\n",
       "      <td>bat</td>\n",
       "      <td>normal</td>\n",
       "      <td>0</td>\n",
       "      <td>Royal Challengers Bangalore</td>\n",
       "      <td>15</td>\n",
       "      <td>0</td>\n",
       "      <td>KM Jadhav</td>\n",
       "      <td>M Chinnaswamy Stadium</td>\n",
       "      <td>NaN</td>\n",
       "      <td>NaN</td>\n",
       "      <td>NaN</td>\n",
       "    </tr>\n",
       "  </tbody>\n",
       "</table>\n",
       "</div>"
      ],
      "text/plain": [
       "   id  season       city        date                        team1  \\\n",
       "0   1    2017  Hyderabad  2017-04-05          Sunrisers Hyderabad   \n",
       "1   2    2017       Pune  2017-04-06               Mumbai Indians   \n",
       "2   3    2017     Rajkot  2017-04-07                Gujarat Lions   \n",
       "3   4    2017     Indore  2017-04-08       Rising Pune Supergiant   \n",
       "4   5    2017  Bangalore  2017-04-08  Royal Challengers Bangalore   \n",
       "\n",
       "                         team2                  toss_winner toss_decision  \\\n",
       "0  Royal Challengers Bangalore  Royal Challengers Bangalore         field   \n",
       "1       Rising Pune Supergiant       Rising Pune Supergiant         field   \n",
       "2        Kolkata Knight Riders        Kolkata Knight Riders         field   \n",
       "3              Kings XI Punjab              Kings XI Punjab         field   \n",
       "4             Delhi Daredevils  Royal Challengers Bangalore           bat   \n",
       "\n",
       "   result  dl_applied                       winner  win_by_runs  \\\n",
       "0  normal           0          Sunrisers Hyderabad           35   \n",
       "1  normal           0       Rising Pune Supergiant            0   \n",
       "2  normal           0        Kolkata Knight Riders            0   \n",
       "3  normal           0              Kings XI Punjab            0   \n",
       "4  normal           0  Royal Challengers Bangalore           15   \n",
       "\n",
       "   win_by_wickets player_of_match                                      venue  \\\n",
       "0               0    Yuvraj Singh  Rajiv Gandhi International Stadium, Uppal   \n",
       "1               7       SPD Smith    Maharashtra Cricket Association Stadium   \n",
       "2              10         CA Lynn     Saurashtra Cricket Association Stadium   \n",
       "3               6      GJ Maxwell                     Holkar Cricket Stadium   \n",
       "4               0       KM Jadhav                      M Chinnaswamy Stadium   \n",
       "\n",
       "          umpire1        umpire2 umpire3  \n",
       "0     AY Dandekar       NJ Llong     NaN  \n",
       "1  A Nand Kishore         S Ravi     NaN  \n",
       "2     Nitin Menon      CK Nandan     NaN  \n",
       "3    AK Chaudhary  C Shamshuddin     NaN  \n",
       "4             NaN            NaN     NaN  "
      ]
     },
     "execution_count": 70,
     "metadata": {},
     "output_type": "execute_result"
    }
   ],
   "source": [
    "dfm=pd.read_csv('matches.csv')\n",
    "dfm.head()"
   ]
  },
  {
   "cell_type": "code",
   "execution_count": 71,
   "id": "7d1a9313",
   "metadata": {},
   "outputs": [],
   "source": [
    "# Checking shape and size"
   ]
  },
  {
   "cell_type": "code",
   "execution_count": 72,
   "id": "2ce27e23",
   "metadata": {},
   "outputs": [
    {
     "data": {
      "text/plain": [
       "((179078, 21), (756, 18))"
      ]
     },
     "execution_count": 72,
     "metadata": {},
     "output_type": "execute_result"
    }
   ],
   "source": [
    "dfd.shape,dfm.shape"
   ]
  },
  {
   "cell_type": "code",
   "execution_count": 73,
   "id": "f71392c3",
   "metadata": {},
   "outputs": [
    {
     "data": {
      "text/plain": [
       "Index(['match_id', 'inning', 'batting_team', 'bowling_team', 'over', 'ball',\n",
       "       'batsman', 'non_striker', 'bowler', 'is_super_over', 'wide_runs',\n",
       "       'bye_runs', 'legbye_runs', 'noball_runs', 'penalty_runs',\n",
       "       'batsman_runs', 'extra_runs', 'total_runs', 'player_dismissed',\n",
       "       'dismissal_kind', 'fielder'],\n",
       "      dtype='object')"
      ]
     },
     "execution_count": 73,
     "metadata": {},
     "output_type": "execute_result"
    }
   ],
   "source": [
    "dfd.columns"
   ]
  },
  {
   "cell_type": "code",
   "execution_count": 74,
   "id": "2fb53308",
   "metadata": {},
   "outputs": [
    {
     "data": {
      "text/plain": [
       "Index(['id', 'season', 'city', 'date', 'team1', 'team2', 'toss_winner',\n",
       "       'toss_decision', 'result', 'dl_applied', 'winner', 'win_by_runs',\n",
       "       'win_by_wickets', 'player_of_match', 'venue', 'umpire1', 'umpire2',\n",
       "       'umpire3'],\n",
       "      dtype='object')"
      ]
     },
     "execution_count": 74,
     "metadata": {},
     "output_type": "execute_result"
    }
   ],
   "source": [
    "dfm.columns"
   ]
  },
  {
   "cell_type": "code",
   "execution_count": 75,
   "id": "7ece9c0e",
   "metadata": {},
   "outputs": [
    {
     "data": {
      "text/html": [
       "<div>\n",
       "<style scoped>\n",
       "    .dataframe tbody tr th:only-of-type {\n",
       "        vertical-align: middle;\n",
       "    }\n",
       "\n",
       "    .dataframe tbody tr th {\n",
       "        vertical-align: top;\n",
       "    }\n",
       "\n",
       "    .dataframe thead th {\n",
       "        text-align: right;\n",
       "    }\n",
       "</style>\n",
       "<table border=\"1\" class=\"dataframe\">\n",
       "  <thead>\n",
       "    <tr style=\"text-align: right;\">\n",
       "      <th></th>\n",
       "      <th>batsman_runs</th>\n",
       "      <th>extra_runs</th>\n",
       "      <th>total_runs</th>\n",
       "    </tr>\n",
       "  </thead>\n",
       "  <tbody>\n",
       "    <tr>\n",
       "      <th>182</th>\n",
       "      <td>1</td>\n",
       "      <td>1</td>\n",
       "      <td>2</td>\n",
       "    </tr>\n",
       "  </tbody>\n",
       "</table>\n",
       "</div>"
      ],
      "text/plain": [
       "     batsman_runs  extra_runs  total_runs\n",
       "182             1           1           2"
      ]
     },
     "execution_count": 75,
     "metadata": {},
     "output_type": "execute_result"
    }
   ],
   "source": [
    "#checking wether total_runs is sum of batman_runs and extra_runs\n",
    "dfd[(dfd.match_id==1) & (dfd.extra_runs!=0) & (dfd.batsman_runs!=0)][['batsman_runs','extra_runs','total_runs']].head(20)"
   ]
  },
  {
   "cell_type": "code",
   "execution_count": 76,
   "id": "48df0411",
   "metadata": {},
   "outputs": [
    {
     "name": "stdout",
     "output_type": "stream",
     "text": [
      "<class 'pandas.core.frame.DataFrame'>\n",
      "RangeIndex: 179078 entries, 0 to 179077\n",
      "Data columns (total 21 columns):\n",
      " #   Column            Non-Null Count   Dtype \n",
      "---  ------            --------------   ----- \n",
      " 0   match_id          179078 non-null  int64 \n",
      " 1   inning            179078 non-null  int64 \n",
      " 2   batting_team      179078 non-null  object\n",
      " 3   bowling_team      179078 non-null  object\n",
      " 4   over              179078 non-null  int64 \n",
      " 5   ball              179078 non-null  int64 \n",
      " 6   batsman           179078 non-null  object\n",
      " 7   non_striker       179078 non-null  object\n",
      " 8   bowler            179078 non-null  object\n",
      " 9   is_super_over     179078 non-null  int64 \n",
      " 10  wide_runs         179078 non-null  int64 \n",
      " 11  bye_runs          179078 non-null  int64 \n",
      " 12  legbye_runs       179078 non-null  int64 \n",
      " 13  noball_runs       179078 non-null  int64 \n",
      " 14  penalty_runs      179078 non-null  int64 \n",
      " 15  batsman_runs      179078 non-null  int64 \n",
      " 16  extra_runs        179078 non-null  int64 \n",
      " 17  total_runs        179078 non-null  int64 \n",
      " 18  player_dismissed  8834 non-null    object\n",
      " 19  dismissal_kind    8834 non-null    object\n",
      " 20  fielder           6448 non-null    object\n",
      "dtypes: int64(13), object(8)\n",
      "memory usage: 28.7+ MB\n"
     ]
    }
   ],
   "source": [
    "dfd.info()"
   ]
  },
  {
   "cell_type": "code",
   "execution_count": 77,
   "id": "3f980153",
   "metadata": {},
   "outputs": [
    {
     "data": {
      "text/html": [
       "<div>\n",
       "<style scoped>\n",
       "    .dataframe tbody tr th:only-of-type {\n",
       "        vertical-align: middle;\n",
       "    }\n",
       "\n",
       "    .dataframe tbody tr th {\n",
       "        vertical-align: top;\n",
       "    }\n",
       "\n",
       "    .dataframe thead th {\n",
       "        text-align: right;\n",
       "    }\n",
       "</style>\n",
       "<table border=\"1\" class=\"dataframe\">\n",
       "  <thead>\n",
       "    <tr style=\"text-align: right;\">\n",
       "      <th></th>\n",
       "      <th>match_id</th>\n",
       "      <th>inning</th>\n",
       "      <th>total_runs</th>\n",
       "    </tr>\n",
       "  </thead>\n",
       "  <tbody>\n",
       "    <tr>\n",
       "      <th>0</th>\n",
       "      <td>34</td>\n",
       "      <td>3</td>\n",
       "      <td>11</td>\n",
       "    </tr>\n",
       "    <tr>\n",
       "      <th>1</th>\n",
       "      <td>34</td>\n",
       "      <td>4</td>\n",
       "      <td>6</td>\n",
       "    </tr>\n",
       "    <tr>\n",
       "      <th>2</th>\n",
       "      <td>126</td>\n",
       "      <td>3</td>\n",
       "      <td>15</td>\n",
       "    </tr>\n",
       "    <tr>\n",
       "      <th>3</th>\n",
       "      <td>126</td>\n",
       "      <td>4</td>\n",
       "      <td>18</td>\n",
       "    </tr>\n",
       "    <tr>\n",
       "      <th>4</th>\n",
       "      <td>190</td>\n",
       "      <td>3</td>\n",
       "      <td>9</td>\n",
       "    </tr>\n",
       "    <tr>\n",
       "      <th>5</th>\n",
       "      <td>190</td>\n",
       "      <td>4</td>\n",
       "      <td>10</td>\n",
       "    </tr>\n",
       "    <tr>\n",
       "      <th>6</th>\n",
       "      <td>388</td>\n",
       "      <td>3</td>\n",
       "      <td>20</td>\n",
       "    </tr>\n",
       "    <tr>\n",
       "      <th>7</th>\n",
       "      <td>388</td>\n",
       "      <td>4</td>\n",
       "      <td>15</td>\n",
       "    </tr>\n",
       "    <tr>\n",
       "      <th>8</th>\n",
       "      <td>401</td>\n",
       "      <td>3</td>\n",
       "      <td>15</td>\n",
       "    </tr>\n",
       "    <tr>\n",
       "      <th>9</th>\n",
       "      <td>401</td>\n",
       "      <td>4</td>\n",
       "      <td>11</td>\n",
       "    </tr>\n",
       "    <tr>\n",
       "      <th>10</th>\n",
       "      <td>476</td>\n",
       "      <td>3</td>\n",
       "      <td>11</td>\n",
       "    </tr>\n",
       "    <tr>\n",
       "      <th>11</th>\n",
       "      <td>476</td>\n",
       "      <td>4</td>\n",
       "      <td>11</td>\n",
       "    </tr>\n",
       "    <tr>\n",
       "      <th>12</th>\n",
       "      <td>536</td>\n",
       "      <td>3</td>\n",
       "      <td>15</td>\n",
       "    </tr>\n",
       "    <tr>\n",
       "      <th>13</th>\n",
       "      <td>536</td>\n",
       "      <td>4</td>\n",
       "      <td>6</td>\n",
       "    </tr>\n",
       "  </tbody>\n",
       "</table>\n",
       "</div>"
      ],
      "text/plain": [
       "    match_id  inning  total_runs\n",
       "0         34       3          11\n",
       "1         34       4           6\n",
       "2        126       3          15\n",
       "3        126       4          18\n",
       "4        190       3           9\n",
       "5        190       4          10\n",
       "6        388       3          20\n",
       "7        388       4          15\n",
       "8        401       3          15\n",
       "9        401       4          11\n",
       "10       476       3          11\n",
       "11       476       4          11\n",
       "12       536       3          15\n",
       "13       536       4           6"
      ]
     },
     "execution_count": 77,
     "metadata": {},
     "output_type": "execute_result"
    }
   ],
   "source": [
    "df_so=dfd[dfd.is_super_over==1].groupby(['match_id','inning'],as_index=False)['total_runs'].sum()\n",
    "df_so"
   ]
  },
  {
   "cell_type": "markdown",
   "id": "d2a1aa05",
   "metadata": {},
   "source": [
    "#### We conclude super overs are innings 3 and 4 for respective match\n"
   ]
  },
  {
   "cell_type": "code",
   "execution_count": 78,
   "id": "ab32971b",
   "metadata": {},
   "outputs": [
    {
     "data": {
      "text/plain": [
       "756"
      ]
     },
     "execution_count": 78,
     "metadata": {},
     "output_type": "execute_result"
    }
   ],
   "source": [
    "dfd.match_id.nunique()"
   ]
  },
  {
   "cell_type": "code",
   "execution_count": 79,
   "id": "486266d4",
   "metadata": {},
   "outputs": [
    {
     "data": {
      "text/plain": [
       "match_id    756\n",
       "dtype: int64"
      ]
     },
     "execution_count": 79,
     "metadata": {},
     "output_type": "execute_result"
    }
   ],
   "source": [
    "dfd[dfd.is_super_over==0][['match_id']].nunique()"
   ]
  },
  {
   "cell_type": "markdown",
   "id": "3563285c",
   "metadata": {},
   "source": [
    "#### Total number of matches played is 756\n",
    "#### There are 749 matches without super over\n",
    "#### There are 7 matches with super over"
   ]
  },
  {
   "cell_type": "code",
   "execution_count": 80,
   "id": "7ebc1545",
   "metadata": {},
   "outputs": [
    {
     "data": {
      "text/html": [
       "<div>\n",
       "<style scoped>\n",
       "    .dataframe tbody tr th:only-of-type {\n",
       "        vertical-align: middle;\n",
       "    }\n",
       "\n",
       "    .dataframe tbody tr th {\n",
       "        vertical-align: top;\n",
       "    }\n",
       "\n",
       "    .dataframe thead th {\n",
       "        text-align: right;\n",
       "    }\n",
       "</style>\n",
       "<table border=\"1\" class=\"dataframe\">\n",
       "  <thead>\n",
       "    <tr style=\"text-align: right;\">\n",
       "      <th></th>\n",
       "      <th>wide_runs</th>\n",
       "      <th>bye_runs</th>\n",
       "      <th>legbye_runs</th>\n",
       "      <th>noball_runs</th>\n",
       "      <th>penalty_runs</th>\n",
       "      <th>batsman_runs</th>\n",
       "      <th>extra_runs</th>\n",
       "      <th>total_runs</th>\n",
       "    </tr>\n",
       "  </thead>\n",
       "  <tbody>\n",
       "  </tbody>\n",
       "</table>\n",
       "</div>"
      ],
      "text/plain": [
       "Empty DataFrame\n",
       "Columns: [wide_runs, bye_runs, legbye_runs, noball_runs, penalty_runs, batsman_runs, extra_runs, total_runs]\n",
       "Index: []"
      ]
     },
     "execution_count": 80,
     "metadata": {},
     "output_type": "execute_result"
    }
   ],
   "source": [
    "dfd[~(dfd.iloc[:,10:16].sum(axis=1)==dfd.iloc[:,17])].iloc[:,10:18]"
   ]
  },
  {
   "cell_type": "markdown",
   "id": "133275c2",
   "metadata": {},
   "source": [
    "This suggests that wide_runs+bye_runs+legbye_runs+noball_runs+penalty_runs+batsman_runs=total_runs. \n",
    "\n",
    "\n",
    "\n",
    "And there is no violation is such criterial through out the dataset."
   ]
  },
  {
   "cell_type": "code",
   "execution_count": 81,
   "id": "bfc43203",
   "metadata": {},
   "outputs": [
    {
     "name": "stdout",
     "output_type": "stream",
     "text": [
      "<class 'pandas.core.frame.DataFrame'>\n",
      "RangeIndex: 756 entries, 0 to 755\n",
      "Data columns (total 18 columns):\n",
      " #   Column           Non-Null Count  Dtype \n",
      "---  ------           --------------  ----- \n",
      " 0   id               756 non-null    int64 \n",
      " 1   season           756 non-null    int64 \n",
      " 2   city             749 non-null    object\n",
      " 3   date             756 non-null    object\n",
      " 4   team1            756 non-null    object\n",
      " 5   team2            756 non-null    object\n",
      " 6   toss_winner      756 non-null    object\n",
      " 7   toss_decision    756 non-null    object\n",
      " 8   result           756 non-null    object\n",
      " 9   dl_applied       756 non-null    int64 \n",
      " 10  winner           752 non-null    object\n",
      " 11  win_by_runs      756 non-null    int64 \n",
      " 12  win_by_wickets   756 non-null    int64 \n",
      " 13  player_of_match  752 non-null    object\n",
      " 14  venue            756 non-null    object\n",
      " 15  umpire1          754 non-null    object\n",
      " 16  umpire2          754 non-null    object\n",
      " 17  umpire3          119 non-null    object\n",
      "dtypes: int64(5), object(13)\n",
      "memory usage: 106.4+ KB\n"
     ]
    }
   ],
   "source": [
    "dfm.info()"
   ]
  },
  {
   "cell_type": "code",
   "execution_count": 82,
   "id": "e48e1038",
   "metadata": {},
   "outputs": [
    {
     "data": {
      "text/html": [
       "<div>\n",
       "<style scoped>\n",
       "    .dataframe tbody tr th:only-of-type {\n",
       "        vertical-align: middle;\n",
       "    }\n",
       "\n",
       "    .dataframe tbody tr th {\n",
       "        vertical-align: top;\n",
       "    }\n",
       "\n",
       "    .dataframe thead th {\n",
       "        text-align: right;\n",
       "    }\n",
       "</style>\n",
       "<table border=\"1\" class=\"dataframe\">\n",
       "  <thead>\n",
       "    <tr style=\"text-align: right;\">\n",
       "      <th></th>\n",
       "      <th>id</th>\n",
       "      <th>season</th>\n",
       "      <th>city</th>\n",
       "      <th>date</th>\n",
       "      <th>team1</th>\n",
       "      <th>team2</th>\n",
       "      <th>toss_winner</th>\n",
       "      <th>toss_decision</th>\n",
       "      <th>result</th>\n",
       "      <th>dl_applied</th>\n",
       "      <th>winner</th>\n",
       "      <th>win_by_runs</th>\n",
       "      <th>win_by_wickets</th>\n",
       "      <th>player_of_match</th>\n",
       "      <th>venue</th>\n",
       "      <th>umpire1</th>\n",
       "      <th>umpire2</th>\n",
       "      <th>umpire3</th>\n",
       "    </tr>\n",
       "  </thead>\n",
       "  <tbody>\n",
       "    <tr>\n",
       "      <th>33</th>\n",
       "      <td>34</td>\n",
       "      <td>2017</td>\n",
       "      <td>Rajkot</td>\n",
       "      <td>2017-04-29</td>\n",
       "      <td>Gujarat Lions</td>\n",
       "      <td>Mumbai Indians</td>\n",
       "      <td>Gujarat Lions</td>\n",
       "      <td>bat</td>\n",
       "      <td>tie</td>\n",
       "      <td>0</td>\n",
       "      <td>Mumbai Indians</td>\n",
       "      <td>0</td>\n",
       "      <td>0</td>\n",
       "      <td>KH Pandya</td>\n",
       "      <td>Saurashtra Cricket Association Stadium</td>\n",
       "      <td>AK Chaudhary</td>\n",
       "      <td>CB Gaffaney</td>\n",
       "      <td>NaN</td>\n",
       "    </tr>\n",
       "    <tr>\n",
       "      <th>125</th>\n",
       "      <td>126</td>\n",
       "      <td>2009</td>\n",
       "      <td>Cape Town</td>\n",
       "      <td>2009-04-23</td>\n",
       "      <td>Rajasthan Royals</td>\n",
       "      <td>Kolkata Knight Riders</td>\n",
       "      <td>Kolkata Knight Riders</td>\n",
       "      <td>field</td>\n",
       "      <td>tie</td>\n",
       "      <td>0</td>\n",
       "      <td>Rajasthan Royals</td>\n",
       "      <td>0</td>\n",
       "      <td>0</td>\n",
       "      <td>YK Pathan</td>\n",
       "      <td>Newlands</td>\n",
       "      <td>MR Benson</td>\n",
       "      <td>M Erasmus</td>\n",
       "      <td>NaN</td>\n",
       "    </tr>\n",
       "    <tr>\n",
       "      <th>189</th>\n",
       "      <td>190</td>\n",
       "      <td>2010</td>\n",
       "      <td>Chennai</td>\n",
       "      <td>2010-03-21</td>\n",
       "      <td>Kings XI Punjab</td>\n",
       "      <td>Chennai Super Kings</td>\n",
       "      <td>Chennai Super Kings</td>\n",
       "      <td>field</td>\n",
       "      <td>tie</td>\n",
       "      <td>0</td>\n",
       "      <td>Kings XI Punjab</td>\n",
       "      <td>0</td>\n",
       "      <td>0</td>\n",
       "      <td>J Theron</td>\n",
       "      <td>MA Chidambaram Stadium, Chepauk</td>\n",
       "      <td>K Hariharan</td>\n",
       "      <td>DJ Harper</td>\n",
       "      <td>NaN</td>\n",
       "    </tr>\n",
       "    <tr>\n",
       "      <th>387</th>\n",
       "      <td>388</td>\n",
       "      <td>2013</td>\n",
       "      <td>Hyderabad</td>\n",
       "      <td>2013-04-07</td>\n",
       "      <td>Royal Challengers Bangalore</td>\n",
       "      <td>Sunrisers Hyderabad</td>\n",
       "      <td>Royal Challengers Bangalore</td>\n",
       "      <td>bat</td>\n",
       "      <td>tie</td>\n",
       "      <td>0</td>\n",
       "      <td>Sunrisers Hyderabad</td>\n",
       "      <td>0</td>\n",
       "      <td>0</td>\n",
       "      <td>GH Vihari</td>\n",
       "      <td>Rajiv Gandhi International Stadium, Uppal</td>\n",
       "      <td>AK Chaudhary</td>\n",
       "      <td>S Ravi</td>\n",
       "      <td>NaN</td>\n",
       "    </tr>\n",
       "    <tr>\n",
       "      <th>400</th>\n",
       "      <td>401</td>\n",
       "      <td>2013</td>\n",
       "      <td>Bangalore</td>\n",
       "      <td>2013-04-16</td>\n",
       "      <td>Delhi Daredevils</td>\n",
       "      <td>Royal Challengers Bangalore</td>\n",
       "      <td>Royal Challengers Bangalore</td>\n",
       "      <td>field</td>\n",
       "      <td>tie</td>\n",
       "      <td>0</td>\n",
       "      <td>Royal Challengers Bangalore</td>\n",
       "      <td>0</td>\n",
       "      <td>0</td>\n",
       "      <td>V Kohli</td>\n",
       "      <td>M Chinnaswamy Stadium</td>\n",
       "      <td>M Erasmus</td>\n",
       "      <td>VA Kulkarni</td>\n",
       "      <td>NaN</td>\n",
       "    </tr>\n",
       "    <tr>\n",
       "      <th>475</th>\n",
       "      <td>476</td>\n",
       "      <td>2014</td>\n",
       "      <td>Abu Dhabi</td>\n",
       "      <td>2014-04-29</td>\n",
       "      <td>Rajasthan Royals</td>\n",
       "      <td>Kolkata Knight Riders</td>\n",
       "      <td>Rajasthan Royals</td>\n",
       "      <td>bat</td>\n",
       "      <td>tie</td>\n",
       "      <td>0</td>\n",
       "      <td>Rajasthan Royals</td>\n",
       "      <td>0</td>\n",
       "      <td>0</td>\n",
       "      <td>JP Faulkner</td>\n",
       "      <td>Sheikh Zayed Stadium</td>\n",
       "      <td>Aleem Dar</td>\n",
       "      <td>AK Chaudhary</td>\n",
       "      <td>NaN</td>\n",
       "    </tr>\n",
       "    <tr>\n",
       "      <th>535</th>\n",
       "      <td>536</td>\n",
       "      <td>2015</td>\n",
       "      <td>Ahmedabad</td>\n",
       "      <td>2015-04-21</td>\n",
       "      <td>Rajasthan Royals</td>\n",
       "      <td>Kings XI Punjab</td>\n",
       "      <td>Kings XI Punjab</td>\n",
       "      <td>field</td>\n",
       "      <td>tie</td>\n",
       "      <td>0</td>\n",
       "      <td>Kings XI Punjab</td>\n",
       "      <td>0</td>\n",
       "      <td>0</td>\n",
       "      <td>SE Marsh</td>\n",
       "      <td>Sardar Patel Stadium, Motera</td>\n",
       "      <td>M Erasmus</td>\n",
       "      <td>S Ravi</td>\n",
       "      <td>NaN</td>\n",
       "    </tr>\n",
       "  </tbody>\n",
       "</table>\n",
       "</div>"
      ],
      "text/plain": [
       "      id  season       city        date                        team1  \\\n",
       "33    34    2017     Rajkot  2017-04-29                Gujarat Lions   \n",
       "125  126    2009  Cape Town  2009-04-23             Rajasthan Royals   \n",
       "189  190    2010    Chennai  2010-03-21              Kings XI Punjab   \n",
       "387  388    2013  Hyderabad  2013-04-07  Royal Challengers Bangalore   \n",
       "400  401    2013  Bangalore  2013-04-16             Delhi Daredevils   \n",
       "475  476    2014  Abu Dhabi  2014-04-29             Rajasthan Royals   \n",
       "535  536    2015  Ahmedabad  2015-04-21             Rajasthan Royals   \n",
       "\n",
       "                           team2                  toss_winner toss_decision  \\\n",
       "33                Mumbai Indians                Gujarat Lions           bat   \n",
       "125        Kolkata Knight Riders        Kolkata Knight Riders         field   \n",
       "189          Chennai Super Kings          Chennai Super Kings         field   \n",
       "387          Sunrisers Hyderabad  Royal Challengers Bangalore           bat   \n",
       "400  Royal Challengers Bangalore  Royal Challengers Bangalore         field   \n",
       "475        Kolkata Knight Riders             Rajasthan Royals           bat   \n",
       "535              Kings XI Punjab              Kings XI Punjab         field   \n",
       "\n",
       "    result  dl_applied                       winner  win_by_runs  \\\n",
       "33     tie           0               Mumbai Indians            0   \n",
       "125    tie           0             Rajasthan Royals            0   \n",
       "189    tie           0              Kings XI Punjab            0   \n",
       "387    tie           0          Sunrisers Hyderabad            0   \n",
       "400    tie           0  Royal Challengers Bangalore            0   \n",
       "475    tie           0             Rajasthan Royals            0   \n",
       "535    tie           0              Kings XI Punjab            0   \n",
       "\n",
       "     win_by_wickets player_of_match  \\\n",
       "33                0       KH Pandya   \n",
       "125               0       YK Pathan   \n",
       "189               0        J Theron   \n",
       "387               0       GH Vihari   \n",
       "400               0         V Kohli   \n",
       "475               0     JP Faulkner   \n",
       "535               0        SE Marsh   \n",
       "\n",
       "                                         venue       umpire1       umpire2  \\\n",
       "33      Saurashtra Cricket Association Stadium  AK Chaudhary   CB Gaffaney   \n",
       "125                                   Newlands     MR Benson     M Erasmus   \n",
       "189            MA Chidambaram Stadium, Chepauk   K Hariharan     DJ Harper   \n",
       "387  Rajiv Gandhi International Stadium, Uppal  AK Chaudhary        S Ravi   \n",
       "400                      M Chinnaswamy Stadium     M Erasmus   VA Kulkarni   \n",
       "475                       Sheikh Zayed Stadium     Aleem Dar  AK Chaudhary   \n",
       "535               Sardar Patel Stadium, Motera     M Erasmus        S Ravi   \n",
       "\n",
       "    umpire3  \n",
       "33      NaN  \n",
       "125     NaN  \n",
       "189     NaN  \n",
       "387     NaN  \n",
       "400     NaN  \n",
       "475     NaN  \n",
       "535     NaN  "
      ]
     },
     "execution_count": 82,
     "metadata": {},
     "output_type": "execute_result"
    }
   ],
   "source": [
    "dfm[dfm.id.isin(df_so.match_id.unique())]"
   ]
  },
  {
   "cell_type": "markdown",
   "id": "d3a23420",
   "metadata": {},
   "source": [
    "#### When there is a superover, result in matches dataframe is tie, though winner of superover is correctly specified."
   ]
  },
  {
   "cell_type": "markdown",
   "id": "4dce1757",
   "metadata": {},
   "source": [
    "## Data Cleaning"
   ]
  },
  {
   "cell_type": "code",
   "execution_count": 83,
   "id": "fa4df5b5",
   "metadata": {},
   "outputs": [
    {
     "data": {
      "text/plain": [
       "match_id             0.000000\n",
       "inning               0.000000\n",
       "batting_team         0.000000\n",
       "bowling_team         0.000000\n",
       "over                 0.000000\n",
       "ball                 0.000000\n",
       "batsman              0.000000\n",
       "non_striker          0.000000\n",
       "bowler               0.000000\n",
       "is_super_over        0.000000\n",
       "wide_runs            0.000000\n",
       "bye_runs             0.000000\n",
       "legbye_runs          0.000000\n",
       "noball_runs          0.000000\n",
       "penalty_runs         0.000000\n",
       "batsman_runs         0.000000\n",
       "extra_runs           0.000000\n",
       "total_runs           0.000000\n",
       "player_dismissed    95.066954\n",
       "dismissal_kind      95.066954\n",
       "fielder             96.399334\n",
       "dtype: float64"
      ]
     },
     "execution_count": 83,
     "metadata": {},
     "output_type": "execute_result"
    }
   ],
   "source": [
    "#Checking null values and justifying it\n",
    "(dfd.isnull().sum()/dfd.shape[0])*100"
   ]
  },
  {
   "cell_type": "code",
   "execution_count": 84,
   "id": "8a97cf24",
   "metadata": {},
   "outputs": [
    {
     "data": {
      "text/plain": [
       "id                  0.000000\n",
       "season              0.000000\n",
       "city                0.925926\n",
       "date                0.000000\n",
       "team1               0.000000\n",
       "team2               0.000000\n",
       "toss_winner         0.000000\n",
       "toss_decision       0.000000\n",
       "result              0.000000\n",
       "dl_applied          0.000000\n",
       "winner              0.529101\n",
       "win_by_runs         0.000000\n",
       "win_by_wickets      0.000000\n",
       "player_of_match     0.529101\n",
       "venue               0.000000\n",
       "umpire1             0.264550\n",
       "umpire2             0.264550\n",
       "umpire3            84.259259\n",
       "dtype: float64"
      ]
     },
     "execution_count": 84,
     "metadata": {},
     "output_type": "execute_result"
    }
   ],
   "source": [
    "#Checking null values\n",
    "(dfm.isnull().sum()/dfm.shape[0])*100"
   ]
  },
  {
   "cell_type": "code",
   "execution_count": 85,
   "id": "e1c2cba4",
   "metadata": {},
   "outputs": [
    {
     "data": {
      "text/html": [
       "<div>\n",
       "<style scoped>\n",
       "    .dataframe tbody tr th:only-of-type {\n",
       "        vertical-align: middle;\n",
       "    }\n",
       "\n",
       "    .dataframe tbody tr th {\n",
       "        vertical-align: top;\n",
       "    }\n",
       "\n",
       "    .dataframe thead th {\n",
       "        text-align: right;\n",
       "    }\n",
       "</style>\n",
       "<table border=\"1\" class=\"dataframe\">\n",
       "  <thead>\n",
       "    <tr style=\"text-align: right;\">\n",
       "      <th></th>\n",
       "      <th>id</th>\n",
       "      <th>season</th>\n",
       "      <th>city</th>\n",
       "      <th>date</th>\n",
       "      <th>team1</th>\n",
       "      <th>team2</th>\n",
       "      <th>toss_winner</th>\n",
       "      <th>toss_decision</th>\n",
       "      <th>result</th>\n",
       "      <th>dl_applied</th>\n",
       "      <th>winner</th>\n",
       "      <th>win_by_runs</th>\n",
       "      <th>win_by_wickets</th>\n",
       "      <th>player_of_match</th>\n",
       "      <th>venue</th>\n",
       "      <th>umpire1</th>\n",
       "      <th>umpire2</th>\n",
       "      <th>umpire3</th>\n",
       "    </tr>\n",
       "  </thead>\n",
       "  <tbody>\n",
       "    <tr>\n",
       "      <th>300</th>\n",
       "      <td>301</td>\n",
       "      <td>2011</td>\n",
       "      <td>Delhi</td>\n",
       "      <td>2011-05-21</td>\n",
       "      <td>Delhi Daredevils</td>\n",
       "      <td>Pune Warriors</td>\n",
       "      <td>Delhi Daredevils</td>\n",
       "      <td>bat</td>\n",
       "      <td>no result</td>\n",
       "      <td>0</td>\n",
       "      <td>NaN</td>\n",
       "      <td>0</td>\n",
       "      <td>0</td>\n",
       "      <td>NaN</td>\n",
       "      <td>Feroz Shah Kotla</td>\n",
       "      <td>SS Hazare</td>\n",
       "      <td>RJ Tucker</td>\n",
       "      <td>NaN</td>\n",
       "    </tr>\n",
       "    <tr>\n",
       "      <th>545</th>\n",
       "      <td>546</td>\n",
       "      <td>2015</td>\n",
       "      <td>Bangalore</td>\n",
       "      <td>2015-04-29</td>\n",
       "      <td>Royal Challengers Bangalore</td>\n",
       "      <td>Rajasthan Royals</td>\n",
       "      <td>Rajasthan Royals</td>\n",
       "      <td>field</td>\n",
       "      <td>no result</td>\n",
       "      <td>0</td>\n",
       "      <td>NaN</td>\n",
       "      <td>0</td>\n",
       "      <td>0</td>\n",
       "      <td>NaN</td>\n",
       "      <td>M Chinnaswamy Stadium</td>\n",
       "      <td>JD Cloete</td>\n",
       "      <td>PG Pathak</td>\n",
       "      <td>NaN</td>\n",
       "    </tr>\n",
       "    <tr>\n",
       "      <th>570</th>\n",
       "      <td>571</td>\n",
       "      <td>2015</td>\n",
       "      <td>Bangalore</td>\n",
       "      <td>2015-05-17</td>\n",
       "      <td>Delhi Daredevils</td>\n",
       "      <td>Royal Challengers Bangalore</td>\n",
       "      <td>Royal Challengers Bangalore</td>\n",
       "      <td>field</td>\n",
       "      <td>no result</td>\n",
       "      <td>0</td>\n",
       "      <td>NaN</td>\n",
       "      <td>0</td>\n",
       "      <td>0</td>\n",
       "      <td>NaN</td>\n",
       "      <td>M Chinnaswamy Stadium</td>\n",
       "      <td>HDPK Dharmasena</td>\n",
       "      <td>K Srinivasan</td>\n",
       "      <td>NaN</td>\n",
       "    </tr>\n",
       "    <tr>\n",
       "      <th>744</th>\n",
       "      <td>11340</td>\n",
       "      <td>2019</td>\n",
       "      <td>Bengaluru</td>\n",
       "      <td>30/04/19</td>\n",
       "      <td>Royal Challengers Bangalore</td>\n",
       "      <td>Rajasthan Royals</td>\n",
       "      <td>Rajasthan Royals</td>\n",
       "      <td>field</td>\n",
       "      <td>no result</td>\n",
       "      <td>0</td>\n",
       "      <td>NaN</td>\n",
       "      <td>0</td>\n",
       "      <td>0</td>\n",
       "      <td>NaN</td>\n",
       "      <td>M. Chinnaswamy Stadium</td>\n",
       "      <td>Nigel Llong</td>\n",
       "      <td>Ulhas Gandhe</td>\n",
       "      <td>Anil Chaudhary</td>\n",
       "    </tr>\n",
       "  </tbody>\n",
       "</table>\n",
       "</div>"
      ],
      "text/plain": [
       "        id  season       city        date                        team1  \\\n",
       "300    301    2011      Delhi  2011-05-21             Delhi Daredevils   \n",
       "545    546    2015  Bangalore  2015-04-29  Royal Challengers Bangalore   \n",
       "570    571    2015  Bangalore  2015-05-17             Delhi Daredevils   \n",
       "744  11340    2019  Bengaluru    30/04/19  Royal Challengers Bangalore   \n",
       "\n",
       "                           team2                  toss_winner toss_decision  \\\n",
       "300                Pune Warriors             Delhi Daredevils           bat   \n",
       "545             Rajasthan Royals             Rajasthan Royals         field   \n",
       "570  Royal Challengers Bangalore  Royal Challengers Bangalore         field   \n",
       "744             Rajasthan Royals             Rajasthan Royals         field   \n",
       "\n",
       "        result  dl_applied winner  win_by_runs  win_by_wickets  \\\n",
       "300  no result           0    NaN            0               0   \n",
       "545  no result           0    NaN            0               0   \n",
       "570  no result           0    NaN            0               0   \n",
       "744  no result           0    NaN            0               0   \n",
       "\n",
       "    player_of_match                   venue          umpire1       umpire2  \\\n",
       "300             NaN        Feroz Shah Kotla        SS Hazare     RJ Tucker   \n",
       "545             NaN   M Chinnaswamy Stadium        JD Cloete     PG Pathak   \n",
       "570             NaN   M Chinnaswamy Stadium  HDPK Dharmasena  K Srinivasan   \n",
       "744             NaN  M. Chinnaswamy Stadium      Nigel Llong  Ulhas Gandhe   \n",
       "\n",
       "            umpire3  \n",
       "300             NaN  \n",
       "545             NaN  \n",
       "570             NaN  \n",
       "744  Anil Chaudhary  "
      ]
     },
     "execution_count": 85,
     "metadata": {},
     "output_type": "execute_result"
    }
   ],
   "source": [
    "dfm[dfm.winner.isnull()==True]"
   ]
  },
  {
   "cell_type": "markdown",
   "id": "aad80c3e",
   "metadata": {},
   "source": [
    " For no result winner column is null value, which is justified.\n",
    "    \n",
    "    \n",
    "Same for player_of_the_match"
   ]
  },
  {
   "cell_type": "code",
   "execution_count": 86,
   "id": "5252ddaa",
   "metadata": {},
   "outputs": [
    {
     "name": "stdout",
     "output_type": "stream",
     "text": [
      "<class 'pandas.core.frame.DataFrame'>\n",
      "RangeIndex: 756 entries, 0 to 755\n",
      "Data columns (total 18 columns):\n",
      " #   Column           Non-Null Count  Dtype \n",
      "---  ------           --------------  ----- \n",
      " 0   id               756 non-null    int64 \n",
      " 1   season           756 non-null    int64 \n",
      " 2   city             749 non-null    object\n",
      " 3   date             756 non-null    object\n",
      " 4   team1            756 non-null    object\n",
      " 5   team2            756 non-null    object\n",
      " 6   toss_winner      756 non-null    object\n",
      " 7   toss_decision    756 non-null    object\n",
      " 8   result           756 non-null    object\n",
      " 9   dl_applied       756 non-null    int64 \n",
      " 10  winner           752 non-null    object\n",
      " 11  win_by_runs      756 non-null    int64 \n",
      " 12  win_by_wickets   756 non-null    int64 \n",
      " 13  player_of_match  752 non-null    object\n",
      " 14  venue            756 non-null    object\n",
      " 15  umpire1          754 non-null    object\n",
      " 16  umpire2          754 non-null    object\n",
      " 17  umpire3          119 non-null    object\n",
      "dtypes: int64(5), object(13)\n",
      "memory usage: 106.4+ KB\n"
     ]
    }
   ],
   "source": [
    "dfm.info()"
   ]
  },
  {
   "cell_type": "code",
   "execution_count": 87,
   "id": "c73c5970",
   "metadata": {},
   "outputs": [
    {
     "name": "stdout",
     "output_type": "stream",
     "text": [
      "<class 'pandas.core.frame.DataFrame'>\n",
      "RangeIndex: 756 entries, 0 to 755\n",
      "Data columns (total 18 columns):\n",
      " #   Column           Non-Null Count  Dtype         \n",
      "---  ------           --------------  -----         \n",
      " 0   id               756 non-null    int64         \n",
      " 1   season           756 non-null    int64         \n",
      " 2   city             749 non-null    object        \n",
      " 3   date             756 non-null    datetime64[ns]\n",
      " 4   team1            756 non-null    object        \n",
      " 5   team2            756 non-null    object        \n",
      " 6   toss_winner      756 non-null    object        \n",
      " 7   toss_decision    756 non-null    object        \n",
      " 8   result           756 non-null    object        \n",
      " 9   dl_applied       756 non-null    int64         \n",
      " 10  winner           752 non-null    object        \n",
      " 11  win_by_runs      756 non-null    int64         \n",
      " 12  win_by_wickets   756 non-null    int64         \n",
      " 13  player_of_match  752 non-null    object        \n",
      " 14  venue            756 non-null    object        \n",
      " 15  umpire1          754 non-null    object        \n",
      " 16  umpire2          754 non-null    object        \n",
      " 17  umpire3          119 non-null    object        \n",
      "dtypes: datetime64[ns](1), int64(5), object(12)\n",
      "memory usage: 106.4+ KB\n"
     ]
    }
   ],
   "source": [
    "# date should be in datetime format\n",
    "dfm.date=pd.to_datetime(dfm['date'])\n",
    "dfm.info()"
   ]
  },
  {
   "cell_type": "code",
   "execution_count": 88,
   "id": "30565fbc",
   "metadata": {},
   "outputs": [
    {
     "data": {
      "text/plain": [
       "Mumbai Indians                 101\n",
       "Kings XI Punjab                 91\n",
       "Chennai Super Kings             89\n",
       "Royal Challengers Bangalore     85\n",
       "Kolkata Knight Riders           83\n",
       "Delhi Daredevils                72\n",
       "Rajasthan Royals                67\n",
       "Sunrisers Hyderabad             63\n",
       "Deccan Chargers                 43\n",
       "Pune Warriors                   20\n",
       "Gujarat Lions                   14\n",
       "Rising Pune Supergiant           8\n",
       "Rising Pune Supergiants          7\n",
       "Kochi Tuskers Kerala             7\n",
       "Delhi Capitals                   6\n",
       "Name: team1, dtype: int64"
      ]
     },
     "execution_count": 88,
     "metadata": {},
     "output_type": "execute_result"
    }
   ],
   "source": [
    "dfm.team1.value_counts()"
   ]
  },
  {
   "cell_type": "markdown",
   "id": "e5a1b86e",
   "metadata": {},
   "source": [
    "#### Rising pune supergiants are mentioned two times which is same team\n",
    "#### Lets replace them with the same team as dropping the record will drop the player_of_match associated with it"
   ]
  },
  {
   "cell_type": "markdown",
   "id": "5711d0e1",
   "metadata": {},
   "source": [
    "#### Also Delhi daredevils are renamed Delhi Capitals which comes from domain knowledge. Lets club them to Delhi Capitals\n",
    "#### Deccan chargers and Sunrisers hyderabad are two different owners. So lets not club them."
   ]
  },
  {
   "cell_type": "code",
   "execution_count": 89,
   "id": "046f1a04",
   "metadata": {},
   "outputs": [],
   "source": [
    "dfm.replace({'Rising Pune Supergiant':'Rising Pune Supergiants','Delhi Daredevils':'Delhi Capitals'},inplace=True)\n"
   ]
  },
  {
   "cell_type": "code",
   "execution_count": 90,
   "id": "f2135adc",
   "metadata": {},
   "outputs": [
    {
     "data": {
      "text/plain": [
       "Mumbai Indians                 101\n",
       "Kings XI Punjab                 91\n",
       "Chennai Super Kings             89\n",
       "Royal Challengers Bangalore     85\n",
       "Kolkata Knight Riders           83\n",
       "Delhi Capitals                  78\n",
       "Rajasthan Royals                67\n",
       "Sunrisers Hyderabad             63\n",
       "Deccan Chargers                 43\n",
       "Pune Warriors                   20\n",
       "Rising Pune Supergiants         15\n",
       "Gujarat Lions                   14\n",
       "Kochi Tuskers Kerala             7\n",
       "Name: team1, dtype: int64"
      ]
     },
     "execution_count": 90,
     "metadata": {},
     "output_type": "execute_result"
    }
   ],
   "source": [
    "dfm.team1.value_counts()"
   ]
  },
  {
   "cell_type": "code",
   "execution_count": 91,
   "id": "869e8bba",
   "metadata": {},
   "outputs": [],
   "source": [
    "dfd.replace({'Rising Pune Supergiant':'Rising Pune Supergiants','Delhi Daredevils':'Delhi Capitals'},inplace=True)\n"
   ]
  },
  {
   "cell_type": "markdown",
   "id": "fa39908d",
   "metadata": {},
   "source": [
    "Umpires wont have any say for a team, if so that will be very random\n",
    "\n",
    "\n",
    "Removing umpires from analysis"
   ]
  },
  {
   "cell_type": "code",
   "execution_count": 92,
   "id": "f24d84d9",
   "metadata": {},
   "outputs": [
    {
     "data": {
      "text/plain": [
       "Index(['id', 'season', 'city', 'date', 'team1', 'team2', 'toss_winner',\n",
       "       'toss_decision', 'result', 'dl_applied', 'winner', 'win_by_runs',\n",
       "       'win_by_wickets', 'player_of_match', 'venue'],\n",
       "      dtype='object')"
      ]
     },
     "execution_count": 92,
     "metadata": {},
     "output_type": "execute_result"
    }
   ],
   "source": [
    "\n",
    "dfm.drop(dfm.iloc[:,15:].columns,1,inplace=True)\n",
    "dfm.columns"
   ]
  },
  {
   "cell_type": "markdown",
   "id": "3b111856",
   "metadata": {},
   "source": [
    "# Data Analysis"
   ]
  },
  {
   "cell_type": "markdown",
   "id": "699366fb",
   "metadata": {},
   "source": [
    "## 1.Analysis in Matches Dataset"
   ]
  },
  {
   "cell_type": "markdown",
   "id": "3478407d",
   "metadata": {},
   "source": [
    "### Defining a function to update team based on their ranking"
   ]
  },
  {
   "cell_type": "markdown",
   "id": "b7e2d1ad",
   "metadata": {},
   "source": [
    "We will be using  **dense rank** to rank various teams as we may consider mode somewhere."
   ]
  },
  {
   "cell_type": "code",
   "execution_count": 93,
   "id": "0faf39a5",
   "metadata": {},
   "outputs": [],
   "source": [
    "rq_team=dfm.team1.value_counts().drop(index=['Deccan Chargers','Kochi Tuskers Kerala','Gujarat Lions',\n",
    "                 'Rising Pune Supergiants','Pune Warriors']).index\n",
    "rank_df=pd.DataFrame(index=list(rq_team))\n",
    "def update(data,col):\n",
    "    global rank_df\n",
    "    rank=data.rank(ascending=False,method='dense')\n",
    "    rank_df[col]=rank\n",
    "    return rank_df\n",
    "    \n",
    "    "
   ]
  },
  {
   "cell_type": "markdown",
   "id": "4b2d4d77",
   "metadata": {},
   "source": [
    "### Total wins by team across seasons\n",
    " 'Deccan Chargers','Kochi Tuskers Kerala','Gujarat Lions','Rising Pune Supergiants','Pune Warriors' are obsolute to our \n",
    " analysis. So analysis is carried out without considering such teams as they are dissolved."
   ]
  },
  {
   "cell_type": "code",
   "execution_count": 94,
   "id": "b49def36",
   "metadata": {},
   "outputs": [
    {
     "data": {
      "text/html": [
       "<div>\n",
       "<style scoped>\n",
       "    .dataframe tbody tr th:only-of-type {\n",
       "        vertical-align: middle;\n",
       "    }\n",
       "\n",
       "    .dataframe tbody tr th {\n",
       "        vertical-align: top;\n",
       "    }\n",
       "\n",
       "    .dataframe thead th {\n",
       "        text-align: right;\n",
       "    }\n",
       "</style>\n",
       "<table border=\"1\" class=\"dataframe\">\n",
       "  <thead>\n",
       "    <tr style=\"text-align: right;\">\n",
       "      <th></th>\n",
       "      <th>Total_Wins</th>\n",
       "    </tr>\n",
       "  </thead>\n",
       "  <tbody>\n",
       "    <tr>\n",
       "      <th>Mumbai Indians</th>\n",
       "      <td>1.0</td>\n",
       "    </tr>\n",
       "    <tr>\n",
       "      <th>Kings XI Punjab</th>\n",
       "      <td>5.0</td>\n",
       "    </tr>\n",
       "    <tr>\n",
       "      <th>Chennai Super Kings</th>\n",
       "      <td>2.0</td>\n",
       "    </tr>\n",
       "    <tr>\n",
       "      <th>Royal Challengers Bangalore</th>\n",
       "      <td>4.0</td>\n",
       "    </tr>\n",
       "    <tr>\n",
       "      <th>Kolkata Knight Riders</th>\n",
       "      <td>3.0</td>\n",
       "    </tr>\n",
       "    <tr>\n",
       "      <th>Delhi Capitals</th>\n",
       "      <td>6.0</td>\n",
       "    </tr>\n",
       "    <tr>\n",
       "      <th>Rajasthan Royals</th>\n",
       "      <td>7.0</td>\n",
       "    </tr>\n",
       "    <tr>\n",
       "      <th>Sunrisers Hyderabad</th>\n",
       "      <td>8.0</td>\n",
       "    </tr>\n",
       "  </tbody>\n",
       "</table>\n",
       "</div>"
      ],
      "text/plain": [
       "                             Total_Wins\n",
       "Mumbai Indians                      1.0\n",
       "Kings XI Punjab                     5.0\n",
       "Chennai Super Kings                 2.0\n",
       "Royal Challengers Bangalore         4.0\n",
       "Kolkata Knight Riders               3.0\n",
       "Delhi Capitals                      6.0\n",
       "Rajasthan Royals                    7.0\n",
       "Sunrisers Hyderabad                 8.0"
      ]
     },
     "execution_count": 94,
     "metadata": {},
     "output_type": "execute_result"
    },
    {
     "data": {
      "image/png": "[encoded data removed]",
      "text/plain": [
       "<Figure size 1080x576 with 1 Axes>"
      ]
     },
     "metadata": {
      "needs_background": "light"
     },
     "output_type": "display_data"
    }
   ],
   "source": [
    "data=dfm.winner.value_counts().drop(index=['Deccan Chargers','Kochi Tuskers Kerala','Gujarat Lions',\n",
    "                 'Rising Pune Supergiants','Pune Warriors'])\n",
    "data.plot(kind='bar')\n",
    "\n",
    "plt.xlabel('Total wins across seasons');\n",
    "\n",
    "update(data,'Total_Wins')"
   ]
  },
  {
   "cell_type": "markdown",
   "id": "db1a09e9",
   "metadata": {},
   "source": [
    "###  Average wins by teams across seasons"
   ]
  },
  {
   "cell_type": "code",
   "execution_count": 95,
   "id": "19fc357b",
   "metadata": {},
   "outputs": [
    {
     "data": {
      "text/html": [
       "<div>\n",
       "<style scoped>\n",
       "    .dataframe tbody tr th:only-of-type {\n",
       "        vertical-align: middle;\n",
       "    }\n",
       "\n",
       "    .dataframe tbody tr th {\n",
       "        vertical-align: top;\n",
       "    }\n",
       "\n",
       "    .dataframe thead th {\n",
       "        text-align: right;\n",
       "    }\n",
       "</style>\n",
       "<table border=\"1\" class=\"dataframe\">\n",
       "  <thead>\n",
       "    <tr style=\"text-align: right;\">\n",
       "      <th></th>\n",
       "      <th>Total_Wins</th>\n",
       "      <th>Avg_Wins</th>\n",
       "    </tr>\n",
       "  </thead>\n",
       "  <tbody>\n",
       "    <tr>\n",
       "      <th>Mumbai Indians</th>\n",
       "      <td>1.0</td>\n",
       "      <td>2.0</td>\n",
       "    </tr>\n",
       "    <tr>\n",
       "      <th>Kings XI Punjab</th>\n",
       "      <td>5.0</td>\n",
       "      <td>7.0</td>\n",
       "    </tr>\n",
       "    <tr>\n",
       "      <th>Chennai Super Kings</th>\n",
       "      <td>2.0</td>\n",
       "      <td>1.0</td>\n",
       "    </tr>\n",
       "    <tr>\n",
       "      <th>Royal Challengers Bangalore</th>\n",
       "      <td>4.0</td>\n",
       "      <td>6.0</td>\n",
       "    </tr>\n",
       "    <tr>\n",
       "      <th>Kolkata Knight Riders</th>\n",
       "      <td>3.0</td>\n",
       "      <td>4.0</td>\n",
       "    </tr>\n",
       "    <tr>\n",
       "      <th>Delhi Capitals</th>\n",
       "      <td>6.0</td>\n",
       "      <td>8.0</td>\n",
       "    </tr>\n",
       "    <tr>\n",
       "      <th>Rajasthan Royals</th>\n",
       "      <td>7.0</td>\n",
       "      <td>5.0</td>\n",
       "    </tr>\n",
       "    <tr>\n",
       "      <th>Sunrisers Hyderabad</th>\n",
       "      <td>8.0</td>\n",
       "      <td>3.0</td>\n",
       "    </tr>\n",
       "  </tbody>\n",
       "</table>\n",
       "</div>"
      ],
      "text/plain": [
       "                             Total_Wins  Avg_Wins\n",
       "Mumbai Indians                      1.0       2.0\n",
       "Kings XI Punjab                     5.0       7.0\n",
       "Chennai Super Kings                 2.0       1.0\n",
       "Royal Challengers Bangalore         4.0       6.0\n",
       "Kolkata Knight Riders               3.0       4.0\n",
       "Delhi Capitals                      6.0       8.0\n",
       "Rajasthan Royals                    7.0       5.0\n",
       "Sunrisers Hyderabad                 8.0       3.0"
      ]
     },
     "execution_count": 95,
     "metadata": {},
     "output_type": "execute_result"
    },
    {
     "data": {
      "image/png": "[encoded data removed]",
      "text/plain": [
       "<Figure size 1080x576 with 1 Axes>"
      ]
     },
     "metadata": {
      "needs_background": "light"
     },
     "output_type": "display_data"
    }
   ],
   "source": [
    "\n",
    "total_matches1=dfm.groupby(['team1'])['team1'].count() \n",
    "total_matches2=dfm.groupby(['team2'])['team2'].count()\n",
    "tot_matches=total_matches1+total_matches2\n",
    "\n",
    "\n",
    "total_wins=dfm.groupby(['winner'])['winner'].count()\n",
    "\n",
    "avg_wins=total_wins/tot_matches\n",
    "avg_wins.sort_values(ascending=False).drop(index=['Deccan Chargers','Kochi Tuskers Kerala','Gujarat Lions',\n",
    "                 'Rising Pune Supergiants','Pune Warriors'])\n",
    "data=avg_wins.sort_values(ascending=False).drop(index=['Deccan Chargers','Kochi Tuskers Kerala','Gujarat Lions',\n",
    "                 'Rising Pune Supergiants','Pune Warriors'])\n",
    "data.plot(kind='bar')\n",
    "\n",
    "update(data,'Avg_Wins')"
   ]
  },
  {
   "cell_type": "markdown",
   "id": "6847e21c",
   "metadata": {},
   "source": [
    "#### CSK has the most win percentage followed by MI\n",
    "#### But total wins are in following order : MI, CSK, KKR"
   ]
  },
  {
   "cell_type": "code",
   "execution_count": null,
   "id": "ffb95a50",
   "metadata": {},
   "outputs": [],
   "source": []
  },
  {
   "cell_type": "markdown",
   "id": "dc047d75",
   "metadata": {},
   "source": [
    "### Wining match while winning toss."
   ]
  },
  {
   "cell_type": "code",
   "execution_count": 96,
   "id": "4cb583d7",
   "metadata": {},
   "outputs": [
    {
     "data": {
      "text/html": [
       "<div>\n",
       "<style scoped>\n",
       "    .dataframe tbody tr th:only-of-type {\n",
       "        vertical-align: middle;\n",
       "    }\n",
       "\n",
       "    .dataframe tbody tr th {\n",
       "        vertical-align: top;\n",
       "    }\n",
       "\n",
       "    .dataframe thead th {\n",
       "        text-align: right;\n",
       "    }\n",
       "</style>\n",
       "<table border=\"1\" class=\"dataframe\">\n",
       "  <thead>\n",
       "    <tr style=\"text-align: right;\">\n",
       "      <th></th>\n",
       "      <th>Total_Wins</th>\n",
       "      <th>Avg_Wins</th>\n",
       "      <th>Win_after_toss_win</th>\n",
       "    </tr>\n",
       "  </thead>\n",
       "  <tbody>\n",
       "    <tr>\n",
       "      <th>Mumbai Indians</th>\n",
       "      <td>1.0</td>\n",
       "      <td>2.0</td>\n",
       "      <td>5.0</td>\n",
       "    </tr>\n",
       "    <tr>\n",
       "      <th>Kings XI Punjab</th>\n",
       "      <td>5.0</td>\n",
       "      <td>7.0</td>\n",
       "      <td>7.0</td>\n",
       "    </tr>\n",
       "    <tr>\n",
       "      <th>Chennai Super Kings</th>\n",
       "      <td>2.0</td>\n",
       "      <td>1.0</td>\n",
       "      <td>2.0</td>\n",
       "    </tr>\n",
       "    <tr>\n",
       "      <th>Royal Challengers Bangalore</th>\n",
       "      <td>4.0</td>\n",
       "      <td>6.0</td>\n",
       "      <td>6.0</td>\n",
       "    </tr>\n",
       "    <tr>\n",
       "      <th>Kolkata Knight Riders</th>\n",
       "      <td>3.0</td>\n",
       "      <td>4.0</td>\n",
       "      <td>1.0</td>\n",
       "    </tr>\n",
       "    <tr>\n",
       "      <th>Delhi Capitals</th>\n",
       "      <td>6.0</td>\n",
       "      <td>8.0</td>\n",
       "      <td>4.0</td>\n",
       "    </tr>\n",
       "    <tr>\n",
       "      <th>Rajasthan Royals</th>\n",
       "      <td>7.0</td>\n",
       "      <td>5.0</td>\n",
       "      <td>3.0</td>\n",
       "    </tr>\n",
       "    <tr>\n",
       "      <th>Sunrisers Hyderabad</th>\n",
       "      <td>8.0</td>\n",
       "      <td>3.0</td>\n",
       "      <td>8.0</td>\n",
       "    </tr>\n",
       "  </tbody>\n",
       "</table>\n",
       "</div>"
      ],
      "text/plain": [
       "                             Total_Wins  Avg_Wins  Win_after_toss_win\n",
       "Mumbai Indians                      1.0       2.0                 5.0\n",
       "Kings XI Punjab                     5.0       7.0                 7.0\n",
       "Chennai Super Kings                 2.0       1.0                 2.0\n",
       "Royal Challengers Bangalore         4.0       6.0                 6.0\n",
       "Kolkata Knight Riders               3.0       4.0                 1.0\n",
       "Delhi Capitals                      6.0       8.0                 4.0\n",
       "Rajasthan Royals                    7.0       5.0                 3.0\n",
       "Sunrisers Hyderabad                 8.0       3.0                 8.0"
      ]
     },
     "execution_count": 96,
     "metadata": {},
     "output_type": "execute_result"
    },
    {
     "data": {
      "image/png": "[encoded data removed]",
      "text/plain": [
       "<Figure size 1080x576 with 1 Axes>"
      ]
     },
     "metadata": {
      "needs_background": "light"
     },
     "output_type": "display_data"
    }
   ],
   "source": [
    "tw=dfm[dfm.toss_winner==dfm.winner]\n",
    "win_tw=(tw.winner.value_counts()/dfm.winner.value_counts())\n",
    "data=win_tw.sort_values(ascending=False).drop(index=['Deccan Chargers','Kochi Tuskers Kerala','Gujarat Lions',\n",
    "                 'Rising Pune Supergiants','Pune Warriors'])\n",
    "data.plot(kind='bar')\n",
    "\n",
    "update(data,'Win_after_toss_win')\n",
    "        "
   ]
  },
  {
   "cell_type": "code",
   "execution_count": 97,
   "id": "e1ba5b9f",
   "metadata": {},
   "outputs": [
    {
     "data": {
      "text/html": [
       "<div>\n",
       "<style scoped>\n",
       "    .dataframe tbody tr th:only-of-type {\n",
       "        vertical-align: middle;\n",
       "    }\n",
       "\n",
       "    .dataframe tbody tr th {\n",
       "        vertical-align: top;\n",
       "    }\n",
       "\n",
       "    .dataframe thead th {\n",
       "        text-align: right;\n",
       "    }\n",
       "</style>\n",
       "<table border=\"1\" class=\"dataframe\">\n",
       "  <thead>\n",
       "    <tr style=\"text-align: right;\">\n",
       "      <th></th>\n",
       "      <th>Total_Wins</th>\n",
       "      <th>Avg_Wins</th>\n",
       "      <th>Win_after_toss_win</th>\n",
       "      <th>Win_after_toss_loss</th>\n",
       "    </tr>\n",
       "  </thead>\n",
       "  <tbody>\n",
       "    <tr>\n",
       "      <th>Mumbai Indians</th>\n",
       "      <td>1.0</td>\n",
       "      <td>2.0</td>\n",
       "      <td>5.0</td>\n",
       "      <td>4.0</td>\n",
       "    </tr>\n",
       "    <tr>\n",
       "      <th>Kings XI Punjab</th>\n",
       "      <td>5.0</td>\n",
       "      <td>7.0</td>\n",
       "      <td>7.0</td>\n",
       "      <td>2.0</td>\n",
       "    </tr>\n",
       "    <tr>\n",
       "      <th>Chennai Super Kings</th>\n",
       "      <td>2.0</td>\n",
       "      <td>1.0</td>\n",
       "      <td>2.0</td>\n",
       "      <td>7.0</td>\n",
       "    </tr>\n",
       "    <tr>\n",
       "      <th>Royal Challengers Bangalore</th>\n",
       "      <td>4.0</td>\n",
       "      <td>6.0</td>\n",
       "      <td>6.0</td>\n",
       "      <td>3.0</td>\n",
       "    </tr>\n",
       "    <tr>\n",
       "      <th>Kolkata Knight Riders</th>\n",
       "      <td>3.0</td>\n",
       "      <td>4.0</td>\n",
       "      <td>1.0</td>\n",
       "      <td>8.0</td>\n",
       "    </tr>\n",
       "    <tr>\n",
       "      <th>Delhi Capitals</th>\n",
       "      <td>6.0</td>\n",
       "      <td>8.0</td>\n",
       "      <td>4.0</td>\n",
       "      <td>5.0</td>\n",
       "    </tr>\n",
       "    <tr>\n",
       "      <th>Rajasthan Royals</th>\n",
       "      <td>7.0</td>\n",
       "      <td>5.0</td>\n",
       "      <td>3.0</td>\n",
       "      <td>6.0</td>\n",
       "    </tr>\n",
       "    <tr>\n",
       "      <th>Sunrisers Hyderabad</th>\n",
       "      <td>8.0</td>\n",
       "      <td>3.0</td>\n",
       "      <td>8.0</td>\n",
       "      <td>1.0</td>\n",
       "    </tr>\n",
       "  </tbody>\n",
       "</table>\n",
       "</div>"
      ],
      "text/plain": [
       "                             Total_Wins  Avg_Wins  Win_after_toss_win  \\\n",
       "Mumbai Indians                      1.0       2.0                 5.0   \n",
       "Kings XI Punjab                     5.0       7.0                 7.0   \n",
       "Chennai Super Kings                 2.0       1.0                 2.0   \n",
       "Royal Challengers Bangalore         4.0       6.0                 6.0   \n",
       "Kolkata Knight Riders               3.0       4.0                 1.0   \n",
       "Delhi Capitals                      6.0       8.0                 4.0   \n",
       "Rajasthan Royals                    7.0       5.0                 3.0   \n",
       "Sunrisers Hyderabad                 8.0       3.0                 8.0   \n",
       "\n",
       "                             Win_after_toss_loss  \n",
       "Mumbai Indians                               4.0  \n",
       "Kings XI Punjab                              2.0  \n",
       "Chennai Super Kings                          7.0  \n",
       "Royal Challengers Bangalore                  3.0  \n",
       "Kolkata Knight Riders                        8.0  \n",
       "Delhi Capitals                               5.0  \n",
       "Rajasthan Royals                             6.0  \n",
       "Sunrisers Hyderabad                          1.0  "
      ]
     },
     "execution_count": 97,
     "metadata": {},
     "output_type": "execute_result"
    },
    {
     "data": {
      "image/png": "[encoded data removed]",
      "text/plain": [
       "<Figure size 1080x576 with 1 Axes>"
      ]
     },
     "metadata": {
      "needs_background": "light"
     },
     "output_type": "display_data"
    }
   ],
   "source": [
    "tnw=dfm[dfm.toss_winner!=dfm.winner]\n",
    "win_tnw=(tnw.winner.value_counts()/dfm.winner.value_counts())\n",
    "data=win_tnw.sort_values(ascending=False).drop(index=['Deccan Chargers','Kochi Tuskers Kerala','Gujarat Lions',\n",
    "                 'Rising Pune Supergiants','Pune Warriors'])\n",
    "data.plot(kind='bar')\n",
    "update(data,'Win_after_toss_loss')"
   ]
  },
  {
   "cell_type": "markdown",
   "id": "0194d64e",
   "metadata": {},
   "source": [
    "#### KKR, CSK and RR are teams are most probable to win the match after winning the toss."
   ]
  },
  {
   "cell_type": "markdown",
   "id": "c741185f",
   "metadata": {},
   "source": [
    "\n",
    "#### SRH, KXIP,RCB are most probable to win after lossing the toss."
   ]
  },
  {
   "cell_type": "code",
   "execution_count": 98,
   "id": "eb3a3740",
   "metadata": {},
   "outputs": [
    {
     "data": {
      "text/plain": [
       "<AxesSubplot:>"
      ]
     },
     "execution_count": 98,
     "metadata": {},
     "output_type": "execute_result"
    },
    {
     "data": {
      "image/png": "[encoded data removed]",
      "text/plain": [
       "<Figure size 1080x576 with 1 Axes>"
      ]
     },
     "metadata": {
      "needs_background": "light"
     },
     "output_type": "display_data"
    }
   ],
   "source": [
    "winc=pd.concat([win_tw,win_tnw],axis=1)\n",
    "winc.columns=['Win_winning_toss','Win_loosing_toss']\n",
    "\n",
    "winc.drop(index=['Deccan Chargers','Kochi Tuskers Kerala','Gujarat Lions',\n",
    "                 'Rising Pune Supergiants','Pune Warriors']).plot(kind='bar')"
   ]
  },
  {
   "cell_type": "markdown",
   "id": "78376ecb",
   "metadata": {},
   "source": [
    "#### This is stacked way to look into wins after loosing or winning toss."
   ]
  },
  {
   "cell_type": "code",
   "execution_count": null,
   "id": "308e073a",
   "metadata": {},
   "outputs": [],
   "source": []
  },
  {
   "cell_type": "markdown",
   "id": "068f8263",
   "metadata": {},
   "source": [
    "### Winning while defending and chasing"
   ]
  },
  {
   "cell_type": "code",
   "execution_count": 99,
   "id": "66ea52aa",
   "metadata": {},
   "outputs": [],
   "source": [
    "bat1=dfm[(dfm.toss_winner==dfm.winner) & (dfm.toss_decision=='bat')]\n",
    "bat2=dfm[(dfm.toss_winner!=dfm.winner) & (dfm.toss_decision=='field')]\n",
    "\n",
    "bat_win=pd.concat([bat1,bat2],axis=0)\n",
    "\n",
    "bowl1=dfm[(dfm.toss_winner==dfm.winner) & (dfm.toss_decision=='field')]\n",
    "bowl2=dfm[(dfm.toss_winner!=dfm.winner) & (dfm.toss_decision=='bat')]\n",
    "\n",
    "bowl_win=pd.concat([bowl1,bowl2],axis=0)"
   ]
  },
  {
   "cell_type": "code",
   "execution_count": 100,
   "id": "2b39b6eb",
   "metadata": {},
   "outputs": [],
   "source": [
    "bat_win_avg=bat_win.winner.value_counts()/dfm.winner.value_counts()\n",
    "bowl_win_avg=bowl_win.winner.value_counts()/dfm.winner.value_counts()\n",
    "\n"
   ]
  },
  {
   "cell_type": "code",
   "execution_count": 101,
   "id": "869e0087",
   "metadata": {},
   "outputs": [
    {
     "data": {
      "text/html": [
       "<div>\n",
       "<style scoped>\n",
       "    .dataframe tbody tr th:only-of-type {\n",
       "        vertical-align: middle;\n",
       "    }\n",
       "\n",
       "    .dataframe tbody tr th {\n",
       "        vertical-align: top;\n",
       "    }\n",
       "\n",
       "    .dataframe thead th {\n",
       "        text-align: right;\n",
       "    }\n",
       "</style>\n",
       "<table border=\"1\" class=\"dataframe\">\n",
       "  <thead>\n",
       "    <tr style=\"text-align: right;\">\n",
       "      <th></th>\n",
       "      <th>Total_Wins</th>\n",
       "      <th>Avg_Wins</th>\n",
       "      <th>Win_after_toss_win</th>\n",
       "      <th>Win_after_toss_loss</th>\n",
       "      <th>Win_while_defending</th>\n",
       "    </tr>\n",
       "  </thead>\n",
       "  <tbody>\n",
       "    <tr>\n",
       "      <th>Mumbai Indians</th>\n",
       "      <td>1.0</td>\n",
       "      <td>2.0</td>\n",
       "      <td>5.0</td>\n",
       "      <td>4.0</td>\n",
       "      <td>1.0</td>\n",
       "    </tr>\n",
       "    <tr>\n",
       "      <th>Kings XI Punjab</th>\n",
       "      <td>5.0</td>\n",
       "      <td>7.0</td>\n",
       "      <td>7.0</td>\n",
       "      <td>2.0</td>\n",
       "      <td>4.0</td>\n",
       "    </tr>\n",
       "    <tr>\n",
       "      <th>Chennai Super Kings</th>\n",
       "      <td>2.0</td>\n",
       "      <td>1.0</td>\n",
       "      <td>2.0</td>\n",
       "      <td>7.0</td>\n",
       "      <td>3.0</td>\n",
       "    </tr>\n",
       "    <tr>\n",
       "      <th>Royal Challengers Bangalore</th>\n",
       "      <td>4.0</td>\n",
       "      <td>6.0</td>\n",
       "      <td>6.0</td>\n",
       "      <td>3.0</td>\n",
       "      <td>5.0</td>\n",
       "    </tr>\n",
       "    <tr>\n",
       "      <th>Kolkata Knight Riders</th>\n",
       "      <td>3.0</td>\n",
       "      <td>4.0</td>\n",
       "      <td>1.0</td>\n",
       "      <td>8.0</td>\n",
       "      <td>7.0</td>\n",
       "    </tr>\n",
       "    <tr>\n",
       "      <th>Delhi Capitals</th>\n",
       "      <td>6.0</td>\n",
       "      <td>8.0</td>\n",
       "      <td>4.0</td>\n",
       "      <td>5.0</td>\n",
       "      <td>8.0</td>\n",
       "    </tr>\n",
       "    <tr>\n",
       "      <th>Rajasthan Royals</th>\n",
       "      <td>7.0</td>\n",
       "      <td>5.0</td>\n",
       "      <td>3.0</td>\n",
       "      <td>6.0</td>\n",
       "      <td>6.0</td>\n",
       "    </tr>\n",
       "    <tr>\n",
       "      <th>Sunrisers Hyderabad</th>\n",
       "      <td>8.0</td>\n",
       "      <td>3.0</td>\n",
       "      <td>8.0</td>\n",
       "      <td>1.0</td>\n",
       "      <td>2.0</td>\n",
       "    </tr>\n",
       "  </tbody>\n",
       "</table>\n",
       "</div>"
      ],
      "text/plain": [
       "                             Total_Wins  Avg_Wins  Win_after_toss_win  \\\n",
       "Mumbai Indians                      1.0       2.0                 5.0   \n",
       "Kings XI Punjab                     5.0       7.0                 7.0   \n",
       "Chennai Super Kings                 2.0       1.0                 2.0   \n",
       "Royal Challengers Bangalore         4.0       6.0                 6.0   \n",
       "Kolkata Knight Riders               3.0       4.0                 1.0   \n",
       "Delhi Capitals                      6.0       8.0                 4.0   \n",
       "Rajasthan Royals                    7.0       5.0                 3.0   \n",
       "Sunrisers Hyderabad                 8.0       3.0                 8.0   \n",
       "\n",
       "                             Win_after_toss_loss  Win_while_defending  \n",
       "Mumbai Indians                               4.0                  1.0  \n",
       "Kings XI Punjab                              2.0                  4.0  \n",
       "Chennai Super Kings                          7.0                  3.0  \n",
       "Royal Challengers Bangalore                  3.0                  5.0  \n",
       "Kolkata Knight Riders                        8.0                  7.0  \n",
       "Delhi Capitals                               5.0                  8.0  \n",
       "Rajasthan Royals                             6.0                  6.0  \n",
       "Sunrisers Hyderabad                          1.0                  2.0  "
      ]
     },
     "execution_count": 101,
     "metadata": {},
     "output_type": "execute_result"
    },
    {
     "data": {
      "image/png": "[encoded data removed]",
      "text/plain": [
       "<Figure size 1080x576 with 1 Axes>"
      ]
     },
     "metadata": {
      "needs_background": "light"
     },
     "output_type": "display_data"
    }
   ],
   "source": [
    "data=bat_win_avg.sort_values(ascending=False).drop(index=['Deccan Chargers','Kochi Tuskers Kerala','Gujarat Lions',\n",
    "                 'Rising Pune Supergiants','Pune Warriors'])\n",
    "data.plot(kind='bar')\n",
    "update(data,'Win_while_defending')\n"
   ]
  },
  {
   "cell_type": "markdown",
   "id": "c26681b2",
   "metadata": {},
   "source": [
    "#### MI and SRH are most successful teams while defending there target"
   ]
  },
  {
   "cell_type": "code",
   "execution_count": 102,
   "id": "4d24900e",
   "metadata": {},
   "outputs": [
    {
     "data": {
      "text/html": [
       "<div>\n",
       "<style scoped>\n",
       "    .dataframe tbody tr th:only-of-type {\n",
       "        vertical-align: middle;\n",
       "    }\n",
       "\n",
       "    .dataframe tbody tr th {\n",
       "        vertical-align: top;\n",
       "    }\n",
       "\n",
       "    .dataframe thead th {\n",
       "        text-align: right;\n",
       "    }\n",
       "</style>\n",
       "<table border=\"1\" class=\"dataframe\">\n",
       "  <thead>\n",
       "    <tr style=\"text-align: right;\">\n",
       "      <th></th>\n",
       "      <th>Total_Wins</th>\n",
       "      <th>Avg_Wins</th>\n",
       "      <th>Win_after_toss_win</th>\n",
       "      <th>Win_after_toss_loss</th>\n",
       "      <th>Win_while_defending</th>\n",
       "      <th>Win_while_chasing</th>\n",
       "    </tr>\n",
       "  </thead>\n",
       "  <tbody>\n",
       "    <tr>\n",
       "      <th>Mumbai Indians</th>\n",
       "      <td>1.0</td>\n",
       "      <td>2.0</td>\n",
       "      <td>5.0</td>\n",
       "      <td>4.0</td>\n",
       "      <td>1.0</td>\n",
       "      <td>8.0</td>\n",
       "    </tr>\n",
       "    <tr>\n",
       "      <th>Kings XI Punjab</th>\n",
       "      <td>5.0</td>\n",
       "      <td>7.0</td>\n",
       "      <td>7.0</td>\n",
       "      <td>2.0</td>\n",
       "      <td>4.0</td>\n",
       "      <td>5.0</td>\n",
       "    </tr>\n",
       "    <tr>\n",
       "      <th>Chennai Super Kings</th>\n",
       "      <td>2.0</td>\n",
       "      <td>1.0</td>\n",
       "      <td>2.0</td>\n",
       "      <td>7.0</td>\n",
       "      <td>3.0</td>\n",
       "      <td>6.0</td>\n",
       "    </tr>\n",
       "    <tr>\n",
       "      <th>Royal Challengers Bangalore</th>\n",
       "      <td>4.0</td>\n",
       "      <td>6.0</td>\n",
       "      <td>6.0</td>\n",
       "      <td>3.0</td>\n",
       "      <td>5.0</td>\n",
       "      <td>4.0</td>\n",
       "    </tr>\n",
       "    <tr>\n",
       "      <th>Kolkata Knight Riders</th>\n",
       "      <td>3.0</td>\n",
       "      <td>4.0</td>\n",
       "      <td>1.0</td>\n",
       "      <td>8.0</td>\n",
       "      <td>7.0</td>\n",
       "      <td>2.0</td>\n",
       "    </tr>\n",
       "    <tr>\n",
       "      <th>Delhi Capitals</th>\n",
       "      <td>6.0</td>\n",
       "      <td>8.0</td>\n",
       "      <td>4.0</td>\n",
       "      <td>5.0</td>\n",
       "      <td>8.0</td>\n",
       "      <td>1.0</td>\n",
       "    </tr>\n",
       "    <tr>\n",
       "      <th>Rajasthan Royals</th>\n",
       "      <td>7.0</td>\n",
       "      <td>5.0</td>\n",
       "      <td>3.0</td>\n",
       "      <td>6.0</td>\n",
       "      <td>6.0</td>\n",
       "      <td>3.0</td>\n",
       "    </tr>\n",
       "    <tr>\n",
       "      <th>Sunrisers Hyderabad</th>\n",
       "      <td>8.0</td>\n",
       "      <td>3.0</td>\n",
       "      <td>8.0</td>\n",
       "      <td>1.0</td>\n",
       "      <td>2.0</td>\n",
       "      <td>7.0</td>\n",
       "    </tr>\n",
       "  </tbody>\n",
       "</table>\n",
       "</div>"
      ],
      "text/plain": [
       "                             Total_Wins  Avg_Wins  Win_after_toss_win  \\\n",
       "Mumbai Indians                      1.0       2.0                 5.0   \n",
       "Kings XI Punjab                     5.0       7.0                 7.0   \n",
       "Chennai Super Kings                 2.0       1.0                 2.0   \n",
       "Royal Challengers Bangalore         4.0       6.0                 6.0   \n",
       "Kolkata Knight Riders               3.0       4.0                 1.0   \n",
       "Delhi Capitals                      6.0       8.0                 4.0   \n",
       "Rajasthan Royals                    7.0       5.0                 3.0   \n",
       "Sunrisers Hyderabad                 8.0       3.0                 8.0   \n",
       "\n",
       "                             Win_after_toss_loss  Win_while_defending  \\\n",
       "Mumbai Indians                               4.0                  1.0   \n",
       "Kings XI Punjab                              2.0                  4.0   \n",
       "Chennai Super Kings                          7.0                  3.0   \n",
       "Royal Challengers Bangalore                  3.0                  5.0   \n",
       "Kolkata Knight Riders                        8.0                  7.0   \n",
       "Delhi Capitals                               5.0                  8.0   \n",
       "Rajasthan Royals                             6.0                  6.0   \n",
       "Sunrisers Hyderabad                          1.0                  2.0   \n",
       "\n",
       "                             Win_while_chasing  \n",
       "Mumbai Indians                             8.0  \n",
       "Kings XI Punjab                            5.0  \n",
       "Chennai Super Kings                        6.0  \n",
       "Royal Challengers Bangalore                4.0  \n",
       "Kolkata Knight Riders                      2.0  \n",
       "Delhi Capitals                             1.0  \n",
       "Rajasthan Royals                           3.0  \n",
       "Sunrisers Hyderabad                        7.0  "
      ]
     },
     "execution_count": 102,
     "metadata": {},
     "output_type": "execute_result"
    },
    {
     "data": {
      "image/png": "[encoded data removed]",
      "text/plain": [
       "<Figure size 1080x576 with 1 Axes>"
      ]
     },
     "metadata": {
      "needs_background": "light"
     },
     "output_type": "display_data"
    }
   ],
   "source": [
    "data=bowl_win_avg.sort_values(ascending=False).drop(index=['Deccan Chargers','Kochi Tuskers Kerala','Gujarat Lions',\n",
    "                 'Rising Pune Supergiants','Pune Warriors'])\n",
    "data.plot(kind='bar')\n",
    "\n",
    "update(data,'Win_while_chasing')"
   ]
  },
  {
   "cell_type": "markdown",
   "id": "776ec59f",
   "metadata": {},
   "source": [
    "#### DC and KKR are most succesful teams while chasing"
   ]
  },
  {
   "cell_type": "code",
   "execution_count": 103,
   "id": "389ab338",
   "metadata": {},
   "outputs": [
    {
     "data": {
      "text/plain": [
       "<AxesSubplot:>"
      ]
     },
     "execution_count": 103,
     "metadata": {},
     "output_type": "execute_result"
    },
    {
     "data": {
      "image/png": "[encoded data removed]",
      "text/plain": [
       "<Figure size 1080x576 with 1 Axes>"
      ]
     },
     "metadata": {
      "needs_background": "light"
     },
     "output_type": "display_data"
    }
   ],
   "source": [
    "win_while_def_chas=pd.concat([bat_win_avg,bowl_win_avg],1)\n",
    "win_while_def_chas.columns=['Winning_while_defending','Winning_while_chasing']\n",
    "win_while_def_chas.drop(index=['Deccan Chargers','Kochi Tuskers Kerala','Gujarat Lions',\n",
    "                 'Rising Pune Supergiants','Pune Warriors']).plot(kind='bar')"
   ]
  },
  {
   "cell_type": "markdown",
   "id": "b332b62b",
   "metadata": {},
   "source": [
    "#### DC is the most succesful team while chasing\n",
    "#### MI is most successful team while defending"
   ]
  },
  {
   "cell_type": "code",
   "execution_count": null,
   "id": "733a7e54",
   "metadata": {},
   "outputs": [],
   "source": []
  },
  {
   "cell_type": "markdown",
   "id": "3eb56fd5",
   "metadata": {},
   "source": [
    "### Successful player according to number of player_of_the_match wins"
   ]
  },
  {
   "cell_type": "code",
   "execution_count": 104,
   "id": "d675d3dc",
   "metadata": {},
   "outputs": [
    {
     "data": {
      "text/plain": [
       "<AxesSubplot:>"
      ]
     },
     "execution_count": 104,
     "metadata": {},
     "output_type": "execute_result"
    },
    {
     "data": {
      "image/png": "[encoded data removed]",
      "text/plain": [
       "<Figure size 1080x576 with 1 Axes>"
      ]
     },
     "metadata": {
      "needs_background": "light"
     },
     "output_type": "display_data"
    }
   ],
   "source": [
    "# Player of the match\n",
    "ip=dfm.player_of_match.value_counts().head(30)\n",
    "# Dropping retired player as they are not important to our analysis\n",
    "ip.drop(['CH Gayle','YK Pathan','AB de Villiers','SR Watson','SK Raina','G Gambhir','MEK Hussey','A Mishra','V Sehwag','JH Kallis','Harbhajan Singh',\n",
    "         'SR Tendulkar','AC Gilchrist']).plot(kind='bar')"
   ]
  },
  {
   "cell_type": "markdown",
   "id": "338d4ffe",
   "metadata": {},
   "source": [
    "#### DA Warner and Rohit Sharma are players having most player of the match award.\n"
   ]
  },
  {
   "cell_type": "code",
   "execution_count": null,
   "id": "aa02099d",
   "metadata": {},
   "outputs": [],
   "source": []
  },
  {
   "cell_type": "markdown",
   "id": "7480ca8d",
   "metadata": {},
   "source": [
    "### Teams winning in their home ground."
   ]
  },
  {
   "cell_type": "code",
   "execution_count": 105,
   "id": "163aae9a",
   "metadata": {},
   "outputs": [
    {
     "data": {
      "text/plain": [
       "<AxesSubplot:xlabel='venue,winner,winner'>"
      ]
     },
     "execution_count": 105,
     "metadata": {},
     "output_type": "execute_result"
    },
    {
     "data": {
      "image/png": "[encoded data removed]",
      "text/plain": [
       "<Figure size 1080x576 with 1 Axes>"
      ]
     },
     "metadata": {
      "needs_background": "light"
     },
     "output_type": "display_data"
    }
   ],
   "source": [
    "dfm.groupby(['venue','winner'])['winner'].value_counts().sort_values(ascending=False).head(8).plot(kind='bar')"
   ]
  },
  {
   "cell_type": "markdown",
   "id": "cab46d17",
   "metadata": {},
   "source": [
    "#### KKR has won most matches at their home ground followed by MI."
   ]
  },
  {
   "cell_type": "code",
   "execution_count": null,
   "id": "261d37ca",
   "metadata": {},
   "outputs": [],
   "source": []
  },
  {
   "cell_type": "markdown",
   "id": "d5bf1d69",
   "metadata": {},
   "source": [
    "### Most dominating team while winning by runs (during defend)"
   ]
  },
  {
   "cell_type": "code",
   "execution_count": 106,
   "id": "9f970a6f",
   "metadata": {},
   "outputs": [
    {
     "data": {
      "text/plain": [
       "<AxesSubplot:xlabel='win_by_runs', ylabel='winner'>"
      ]
     },
     "execution_count": 106,
     "metadata": {},
     "output_type": "execute_result"
    },
    {
     "data": {
      "image/png": "[encoded data removed]",
      "text/plain": [
       "<Figure size 1080x576 with 1 Axes>"
      ]
     },
     "metadata": {
      "needs_background": "light"
     },
     "output_type": "display_data"
    }
   ],
   "source": [
    "wbr=dfm[dfm.win_by_runs!=0]\n",
    "\n",
    "sns.boxplot(y=wbr.winner,x=wbr.win_by_runs)\n"
   ]
  },
  {
   "cell_type": "code",
   "execution_count": 107,
   "id": "4ebe3153",
   "metadata": {},
   "outputs": [
    {
     "data": {
      "text/plain": [
       "Index(['id', 'season', 'city', 'date', 'team1', 'team2', 'toss_winner',\n",
       "       'toss_decision', 'result', 'dl_applied', 'winner', 'win_by_runs',\n",
       "       'win_by_wickets', 'player_of_match', 'venue'],\n",
       "      dtype='object')"
      ]
     },
     "execution_count": 107,
     "metadata": {},
     "output_type": "execute_result"
    }
   ],
   "source": [
    "dfm.columns"
   ]
  },
  {
   "cell_type": "code",
   "execution_count": 108,
   "id": "4feefb2b",
   "metadata": {},
   "outputs": [
    {
     "data": {
      "text/html": [
       "<div>\n",
       "<style scoped>\n",
       "    .dataframe tbody tr th:only-of-type {\n",
       "        vertical-align: middle;\n",
       "    }\n",
       "\n",
       "    .dataframe tbody tr th {\n",
       "        vertical-align: top;\n",
       "    }\n",
       "\n",
       "    .dataframe thead th {\n",
       "        text-align: right;\n",
       "    }\n",
       "</style>\n",
       "<table border=\"1\" class=\"dataframe\">\n",
       "  <thead>\n",
       "    <tr style=\"text-align: right;\">\n",
       "      <th></th>\n",
       "      <th>Total_Wins</th>\n",
       "      <th>Avg_Wins</th>\n",
       "      <th>Win_after_toss_win</th>\n",
       "      <th>Win_after_toss_loss</th>\n",
       "      <th>Win_while_defending</th>\n",
       "      <th>Win_while_chasing</th>\n",
       "      <th>Wins_by_runs</th>\n",
       "    </tr>\n",
       "  </thead>\n",
       "  <tbody>\n",
       "    <tr>\n",
       "      <th>Mumbai Indians</th>\n",
       "      <td>1.0</td>\n",
       "      <td>2.0</td>\n",
       "      <td>5.0</td>\n",
       "      <td>4.0</td>\n",
       "      <td>1.0</td>\n",
       "      <td>8.0</td>\n",
       "      <td>2.0</td>\n",
       "    </tr>\n",
       "    <tr>\n",
       "      <th>Kings XI Punjab</th>\n",
       "      <td>5.0</td>\n",
       "      <td>7.0</td>\n",
       "      <td>7.0</td>\n",
       "      <td>2.0</td>\n",
       "      <td>4.0</td>\n",
       "      <td>5.0</td>\n",
       "      <td>7.0</td>\n",
       "    </tr>\n",
       "    <tr>\n",
       "      <th>Chennai Super Kings</th>\n",
       "      <td>2.0</td>\n",
       "      <td>1.0</td>\n",
       "      <td>2.0</td>\n",
       "      <td>7.0</td>\n",
       "      <td>3.0</td>\n",
       "      <td>6.0</td>\n",
       "      <td>4.0</td>\n",
       "    </tr>\n",
       "    <tr>\n",
       "      <th>Royal Challengers Bangalore</th>\n",
       "      <td>4.0</td>\n",
       "      <td>6.0</td>\n",
       "      <td>6.0</td>\n",
       "      <td>3.0</td>\n",
       "      <td>5.0</td>\n",
       "      <td>4.0</td>\n",
       "      <td>6.0</td>\n",
       "    </tr>\n",
       "    <tr>\n",
       "      <th>Kolkata Knight Riders</th>\n",
       "      <td>3.0</td>\n",
       "      <td>4.0</td>\n",
       "      <td>1.0</td>\n",
       "      <td>8.0</td>\n",
       "      <td>7.0</td>\n",
       "      <td>2.0</td>\n",
       "      <td>3.0</td>\n",
       "    </tr>\n",
       "    <tr>\n",
       "      <th>Delhi Capitals</th>\n",
       "      <td>6.0</td>\n",
       "      <td>8.0</td>\n",
       "      <td>4.0</td>\n",
       "      <td>5.0</td>\n",
       "      <td>8.0</td>\n",
       "      <td>1.0</td>\n",
       "      <td>5.0</td>\n",
       "    </tr>\n",
       "    <tr>\n",
       "      <th>Rajasthan Royals</th>\n",
       "      <td>7.0</td>\n",
       "      <td>5.0</td>\n",
       "      <td>3.0</td>\n",
       "      <td>6.0</td>\n",
       "      <td>6.0</td>\n",
       "      <td>3.0</td>\n",
       "      <td>1.0</td>\n",
       "    </tr>\n",
       "    <tr>\n",
       "      <th>Sunrisers Hyderabad</th>\n",
       "      <td>8.0</td>\n",
       "      <td>3.0</td>\n",
       "      <td>8.0</td>\n",
       "      <td>1.0</td>\n",
       "      <td>2.0</td>\n",
       "      <td>7.0</td>\n",
       "      <td>8.0</td>\n",
       "    </tr>\n",
       "  </tbody>\n",
       "</table>\n",
       "</div>"
      ],
      "text/plain": [
       "                             Total_Wins  Avg_Wins  Win_after_toss_win  \\\n",
       "Mumbai Indians                      1.0       2.0                 5.0   \n",
       "Kings XI Punjab                     5.0       7.0                 7.0   \n",
       "Chennai Super Kings                 2.0       1.0                 2.0   \n",
       "Royal Challengers Bangalore         4.0       6.0                 6.0   \n",
       "Kolkata Knight Riders               3.0       4.0                 1.0   \n",
       "Delhi Capitals                      6.0       8.0                 4.0   \n",
       "Rajasthan Royals                    7.0       5.0                 3.0   \n",
       "Sunrisers Hyderabad                 8.0       3.0                 8.0   \n",
       "\n",
       "                             Win_after_toss_loss  Win_while_defending  \\\n",
       "Mumbai Indians                               4.0                  1.0   \n",
       "Kings XI Punjab                              2.0                  4.0   \n",
       "Chennai Super Kings                          7.0                  3.0   \n",
       "Royal Challengers Bangalore                  3.0                  5.0   \n",
       "Kolkata Knight Riders                        8.0                  7.0   \n",
       "Delhi Capitals                               5.0                  8.0   \n",
       "Rajasthan Royals                             6.0                  6.0   \n",
       "Sunrisers Hyderabad                          1.0                  2.0   \n",
       "\n",
       "                             Win_while_chasing  Wins_by_runs  \n",
       "Mumbai Indians                             8.0           2.0  \n",
       "Kings XI Punjab                            5.0           7.0  \n",
       "Chennai Super Kings                        6.0           4.0  \n",
       "Royal Challengers Bangalore                4.0           6.0  \n",
       "Kolkata Knight Riders                      2.0           3.0  \n",
       "Delhi Capitals                             1.0           5.0  \n",
       "Rajasthan Royals                           3.0           1.0  \n",
       "Sunrisers Hyderabad                        7.0           8.0  "
      ]
     },
     "execution_count": 108,
     "metadata": {},
     "output_type": "execute_result"
    }
   ],
   "source": [
    "#For updating data frame\n",
    "\n",
    "data=wbr.groupby('winner')['win_by_runs'].median().drop(index=['Deccan Chargers','Kochi Tuskers Kerala','Gujarat Lions',\n",
    "                 'Rising Pune Supergiants','Pune Warriors']).sort_values(ascending=False)\n",
    "update(data,'Wins_by_runs')"
   ]
  },
  {
   "cell_type": "markdown",
   "id": "e5b6d776",
   "metadata": {},
   "source": [
    "#### MI and RR are two dominant team while winning by runs"
   ]
  },
  {
   "cell_type": "markdown",
   "id": "da3a6b63",
   "metadata": {},
   "source": [
    "### Dominant teams while winning by wickets(during chase)"
   ]
  },
  {
   "cell_type": "code",
   "execution_count": 109,
   "id": "a7209784",
   "metadata": {},
   "outputs": [
    {
     "data": {
      "text/plain": [
       "<AxesSubplot:xlabel='win_by_wickets', ylabel='winner'>"
      ]
     },
     "execution_count": 109,
     "metadata": {},
     "output_type": "execute_result"
    },
    {
     "data": {
      "image/png": "[encoded data removed]",
      "text/plain": [
       "<Figure size 1080x576 with 1 Axes>"
      ]
     },
     "metadata": {
      "needs_background": "light"
     },
     "output_type": "display_data"
    }
   ],
   "source": [
    "wbw=dfm[dfm.win_by_runs==0]\n",
    "\n",
    "sns.boxplot(y=wbw.winner,x=wbw.win_by_wickets)\n"
   ]
  },
  {
   "cell_type": "code",
   "execution_count": 110,
   "id": "f2df6188",
   "metadata": {
    "scrolled": false
   },
   "outputs": [
    {
     "data": {
      "text/html": [
       "<div>\n",
       "<style scoped>\n",
       "    .dataframe tbody tr th:only-of-type {\n",
       "        vertical-align: middle;\n",
       "    }\n",
       "\n",
       "    .dataframe tbody tr th {\n",
       "        vertical-align: top;\n",
       "    }\n",
       "\n",
       "    .dataframe thead th {\n",
       "        text-align: right;\n",
       "    }\n",
       "</style>\n",
       "<table border=\"1\" class=\"dataframe\">\n",
       "  <thead>\n",
       "    <tr style=\"text-align: right;\">\n",
       "      <th></th>\n",
       "      <th>Total_Wins</th>\n",
       "      <th>Avg_Wins</th>\n",
       "      <th>Win_after_toss_win</th>\n",
       "      <th>Win_after_toss_loss</th>\n",
       "      <th>Win_while_defending</th>\n",
       "      <th>Win_while_chasing</th>\n",
       "      <th>Wins_by_runs</th>\n",
       "      <th>Win_by_wickets</th>\n",
       "    </tr>\n",
       "  </thead>\n",
       "  <tbody>\n",
       "    <tr>\n",
       "      <th>Mumbai Indians</th>\n",
       "      <td>1.0</td>\n",
       "      <td>2.0</td>\n",
       "      <td>5.0</td>\n",
       "      <td>4.0</td>\n",
       "      <td>1.0</td>\n",
       "      <td>8.0</td>\n",
       "      <td>2.0</td>\n",
       "      <td>3.0</td>\n",
       "    </tr>\n",
       "    <tr>\n",
       "      <th>Kings XI Punjab</th>\n",
       "      <td>5.0</td>\n",
       "      <td>7.0</td>\n",
       "      <td>7.0</td>\n",
       "      <td>2.0</td>\n",
       "      <td>4.0</td>\n",
       "      <td>5.0</td>\n",
       "      <td>7.0</td>\n",
       "      <td>2.0</td>\n",
       "    </tr>\n",
       "    <tr>\n",
       "      <th>Chennai Super Kings</th>\n",
       "      <td>2.0</td>\n",
       "      <td>1.0</td>\n",
       "      <td>2.0</td>\n",
       "      <td>7.0</td>\n",
       "      <td>3.0</td>\n",
       "      <td>6.0</td>\n",
       "      <td>4.0</td>\n",
       "      <td>3.0</td>\n",
       "    </tr>\n",
       "    <tr>\n",
       "      <th>Royal Challengers Bangalore</th>\n",
       "      <td>4.0</td>\n",
       "      <td>6.0</td>\n",
       "      <td>6.0</td>\n",
       "      <td>3.0</td>\n",
       "      <td>5.0</td>\n",
       "      <td>4.0</td>\n",
       "      <td>6.0</td>\n",
       "      <td>3.0</td>\n",
       "    </tr>\n",
       "    <tr>\n",
       "      <th>Kolkata Knight Riders</th>\n",
       "      <td>3.0</td>\n",
       "      <td>4.0</td>\n",
       "      <td>1.0</td>\n",
       "      <td>8.0</td>\n",
       "      <td>7.0</td>\n",
       "      <td>2.0</td>\n",
       "      <td>3.0</td>\n",
       "      <td>2.0</td>\n",
       "    </tr>\n",
       "    <tr>\n",
       "      <th>Delhi Capitals</th>\n",
       "      <td>6.0</td>\n",
       "      <td>8.0</td>\n",
       "      <td>4.0</td>\n",
       "      <td>5.0</td>\n",
       "      <td>8.0</td>\n",
       "      <td>1.0</td>\n",
       "      <td>5.0</td>\n",
       "      <td>2.0</td>\n",
       "    </tr>\n",
       "    <tr>\n",
       "      <th>Rajasthan Royals</th>\n",
       "      <td>7.0</td>\n",
       "      <td>5.0</td>\n",
       "      <td>3.0</td>\n",
       "      <td>6.0</td>\n",
       "      <td>6.0</td>\n",
       "      <td>3.0</td>\n",
       "      <td>1.0</td>\n",
       "      <td>1.0</td>\n",
       "    </tr>\n",
       "    <tr>\n",
       "      <th>Sunrisers Hyderabad</th>\n",
       "      <td>8.0</td>\n",
       "      <td>3.0</td>\n",
       "      <td>8.0</td>\n",
       "      <td>1.0</td>\n",
       "      <td>2.0</td>\n",
       "      <td>7.0</td>\n",
       "      <td>8.0</td>\n",
       "      <td>3.0</td>\n",
       "    </tr>\n",
       "  </tbody>\n",
       "</table>\n",
       "</div>"
      ],
      "text/plain": [
       "                             Total_Wins  Avg_Wins  Win_after_toss_win  \\\n",
       "Mumbai Indians                      1.0       2.0                 5.0   \n",
       "Kings XI Punjab                     5.0       7.0                 7.0   \n",
       "Chennai Super Kings                 2.0       1.0                 2.0   \n",
       "Royal Challengers Bangalore         4.0       6.0                 6.0   \n",
       "Kolkata Knight Riders               3.0       4.0                 1.0   \n",
       "Delhi Capitals                      6.0       8.0                 4.0   \n",
       "Rajasthan Royals                    7.0       5.0                 3.0   \n",
       "Sunrisers Hyderabad                 8.0       3.0                 8.0   \n",
       "\n",
       "                             Win_after_toss_loss  Win_while_defending  \\\n",
       "Mumbai Indians                               4.0                  1.0   \n",
       "Kings XI Punjab                              2.0                  4.0   \n",
       "Chennai Super Kings                          7.0                  3.0   \n",
       "Royal Challengers Bangalore                  3.0                  5.0   \n",
       "Kolkata Knight Riders                        8.0                  7.0   \n",
       "Delhi Capitals                               5.0                  8.0   \n",
       "Rajasthan Royals                             6.0                  6.0   \n",
       "Sunrisers Hyderabad                          1.0                  2.0   \n",
       "\n",
       "                             Win_while_chasing  Wins_by_runs  Win_by_wickets  \n",
       "Mumbai Indians                             8.0           2.0             3.0  \n",
       "Kings XI Punjab                            5.0           7.0             2.0  \n",
       "Chennai Super Kings                        6.0           4.0             3.0  \n",
       "Royal Challengers Bangalore                4.0           6.0             3.0  \n",
       "Kolkata Knight Riders                      2.0           3.0             2.0  \n",
       "Delhi Capitals                             1.0           5.0             2.0  \n",
       "Rajasthan Royals                           3.0           1.0             1.0  \n",
       "Sunrisers Hyderabad                        7.0           8.0             3.0  "
      ]
     },
     "execution_count": 110,
     "metadata": {},
     "output_type": "execute_result"
    }
   ],
   "source": [
    "#### For updating dataframe\n",
    "#### We are considering mode for analysis\n",
    "import scipy.stats as stats\n",
    "data=wbw.groupby('winner')['win_by_wickets'].agg(lambda x: stats.mode(x.values)[0]).drop(index=['Deccan Chargers','Kochi Tuskers Kerala','Gujarat Lions',\n",
    "                 'Rising Pune Supergiants','Pune Warriors']).sort_values(ascending=False)\n",
    "\n",
    "update(data,'Win_by_wickets')\n"
   ]
  },
  {
   "cell_type": "markdown",
   "id": "685efb30",
   "metadata": {},
   "source": [
    "#### From the current team in action RR is dominant team while winning by wickets having a mode value of 7."
   ]
  },
  {
   "cell_type": "markdown",
   "id": "aa03a08d",
   "metadata": {},
   "source": [
    "## 2. Analysis in Deliveries Dataset"
   ]
  },
  {
   "cell_type": "markdown",
   "id": "da63a750",
   "metadata": {},
   "source": [
    "#### Before going further, lets merge \"Matches\" df with 'Deliveries' df\n",
    "\n"
   ]
  },
  {
   "cell_type": "code",
   "execution_count": 111,
   "id": "cf093116",
   "metadata": {},
   "outputs": [
    {
     "data": {
      "text/html": [
       "<div>\n",
       "<style scoped>\n",
       "    .dataframe tbody tr th:only-of-type {\n",
       "        vertical-align: middle;\n",
       "    }\n",
       "\n",
       "    .dataframe tbody tr th {\n",
       "        vertical-align: top;\n",
       "    }\n",
       "\n",
       "    .dataframe thead th {\n",
       "        text-align: right;\n",
       "    }\n",
       "</style>\n",
       "<table border=\"1\" class=\"dataframe\">\n",
       "  <thead>\n",
       "    <tr style=\"text-align: right;\">\n",
       "      <th></th>\n",
       "      <th>match_id</th>\n",
       "      <th>inning</th>\n",
       "      <th>batting_team</th>\n",
       "      <th>bowling_team</th>\n",
       "      <th>over</th>\n",
       "      <th>ball</th>\n",
       "      <th>batsman</th>\n",
       "      <th>non_striker</th>\n",
       "      <th>bowler</th>\n",
       "      <th>is_super_over</th>\n",
       "      <th>...</th>\n",
       "      <th>team2</th>\n",
       "      <th>toss_winner</th>\n",
       "      <th>toss_decision</th>\n",
       "      <th>result</th>\n",
       "      <th>dl_applied</th>\n",
       "      <th>winner</th>\n",
       "      <th>win_by_runs</th>\n",
       "      <th>win_by_wickets</th>\n",
       "      <th>player_of_match</th>\n",
       "      <th>venue</th>\n",
       "    </tr>\n",
       "  </thead>\n",
       "  <tbody>\n",
       "    <tr>\n",
       "      <th>0</th>\n",
       "      <td>1</td>\n",
       "      <td>1</td>\n",
       "      <td>Sunrisers Hyderabad</td>\n",
       "      <td>Royal Challengers Bangalore</td>\n",
       "      <td>1</td>\n",
       "      <td>1</td>\n",
       "      <td>DA Warner</td>\n",
       "      <td>S Dhawan</td>\n",
       "      <td>TS Mills</td>\n",
       "      <td>0</td>\n",
       "      <td>...</td>\n",
       "      <td>Royal Challengers Bangalore</td>\n",
       "      <td>Royal Challengers Bangalore</td>\n",
       "      <td>field</td>\n",
       "      <td>normal</td>\n",
       "      <td>0</td>\n",
       "      <td>Sunrisers Hyderabad</td>\n",
       "      <td>35</td>\n",
       "      <td>0</td>\n",
       "      <td>Yuvraj Singh</td>\n",
       "      <td>Rajiv Gandhi International Stadium, Uppal</td>\n",
       "    </tr>\n",
       "    <tr>\n",
       "      <th>1</th>\n",
       "      <td>1</td>\n",
       "      <td>1</td>\n",
       "      <td>Sunrisers Hyderabad</td>\n",
       "      <td>Royal Challengers Bangalore</td>\n",
       "      <td>1</td>\n",
       "      <td>2</td>\n",
       "      <td>DA Warner</td>\n",
       "      <td>S Dhawan</td>\n",
       "      <td>TS Mills</td>\n",
       "      <td>0</td>\n",
       "      <td>...</td>\n",
       "      <td>Royal Challengers Bangalore</td>\n",
       "      <td>Royal Challengers Bangalore</td>\n",
       "      <td>field</td>\n",
       "      <td>normal</td>\n",
       "      <td>0</td>\n",
       "      <td>Sunrisers Hyderabad</td>\n",
       "      <td>35</td>\n",
       "      <td>0</td>\n",
       "      <td>Yuvraj Singh</td>\n",
       "      <td>Rajiv Gandhi International Stadium, Uppal</td>\n",
       "    </tr>\n",
       "  </tbody>\n",
       "</table>\n",
       "<p>2 rows × 35 columns</p>\n",
       "</div>"
      ],
      "text/plain": [
       "   match_id  inning         batting_team                 bowling_team  over  \\\n",
       "0         1       1  Sunrisers Hyderabad  Royal Challengers Bangalore     1   \n",
       "1         1       1  Sunrisers Hyderabad  Royal Challengers Bangalore     1   \n",
       "\n",
       "   ball    batsman non_striker    bowler  is_super_over  ...  \\\n",
       "0     1  DA Warner    S Dhawan  TS Mills              0  ...   \n",
       "1     2  DA Warner    S Dhawan  TS Mills              0  ...   \n",
       "\n",
       "                         team2                  toss_winner  toss_decision  \\\n",
       "0  Royal Challengers Bangalore  Royal Challengers Bangalore          field   \n",
       "1  Royal Challengers Bangalore  Royal Challengers Bangalore          field   \n",
       "\n",
       "   result  dl_applied               winner  win_by_runs  win_by_wickets  \\\n",
       "0  normal           0  Sunrisers Hyderabad           35               0   \n",
       "1  normal           0  Sunrisers Hyderabad           35               0   \n",
       "\n",
       "  player_of_match                                      venue  \n",
       "0    Yuvraj Singh  Rajiv Gandhi International Stadium, Uppal  \n",
       "1    Yuvraj Singh  Rajiv Gandhi International Stadium, Uppal  \n",
       "\n",
       "[2 rows x 35 columns]"
      ]
     },
     "execution_count": 111,
     "metadata": {},
     "output_type": "execute_result"
    }
   ],
   "source": [
    "dfm.rename(columns={'id':'match_id'},inplace=True)\n",
    "dft=pd.merge(dfd,dfm,on='match_id',how='left')\n",
    "dft.head(2)"
   ]
  },
  {
   "cell_type": "markdown",
   "id": "e094290d",
   "metadata": {},
   "source": [
    "#### Lets create a dataframe that will contain score of each batsman in each match\n",
    "#### In original datframe batsman_run is the run scores by each batsman without help of any extras."
   ]
  },
  {
   "cell_type": "code",
   "execution_count": 112,
   "id": "4e724b73",
   "metadata": {},
   "outputs": [
    {
     "data": {
      "text/html": [
       "<div>\n",
       "<style scoped>\n",
       "    .dataframe tbody tr th:only-of-type {\n",
       "        vertical-align: middle;\n",
       "    }\n",
       "\n",
       "    .dataframe tbody tr th {\n",
       "        vertical-align: top;\n",
       "    }\n",
       "\n",
       "    .dataframe thead th {\n",
       "        text-align: right;\n",
       "    }\n",
       "</style>\n",
       "<table border=\"1\" class=\"dataframe\">\n",
       "  <thead>\n",
       "    <tr style=\"text-align: right;\">\n",
       "      <th></th>\n",
       "      <th>match_id</th>\n",
       "      <th>batsman</th>\n",
       "      <th>batsman_runs</th>\n",
       "    </tr>\n",
       "  </thead>\n",
       "  <tbody>\n",
       "    <tr>\n",
       "      <th>0</th>\n",
       "      <td>1</td>\n",
       "      <td>A Choudhary</td>\n",
       "      <td>6</td>\n",
       "    </tr>\n",
       "    <tr>\n",
       "      <th>1</th>\n",
       "      <td>1</td>\n",
       "      <td>BCJ Cutting</td>\n",
       "      <td>16</td>\n",
       "    </tr>\n",
       "  </tbody>\n",
       "</table>\n",
       "</div>"
      ],
      "text/plain": [
       "   match_id      batsman  batsman_runs\n",
       "0         1  A Choudhary             6\n",
       "1         1  BCJ Cutting            16"
      ]
     },
     "execution_count": 112,
     "metadata": {},
     "output_type": "execute_result"
    }
   ],
   "source": [
    "bm_df=dft.groupby(['match_id','batsman'],as_index=False)['batsman_runs'].sum()\n",
    "bm_df.head(2)"
   ]
  },
  {
   "cell_type": "markdown",
   "id": "8a047277",
   "metadata": {},
   "source": [
    "#### Lets filter out batman who has atleast played 10 matches"
   ]
  },
  {
   "cell_type": "code",
   "execution_count": 113,
   "id": "17bf8455",
   "metadata": {},
   "outputs": [],
   "source": [
    "match_cnt=bm_df.groupby('batsman')['match_id'].count()\n",
    "bm_=match_cnt[match_cnt>9].index\n",
    "\n",
    "bt_df=bm_df[bm_df.batsman.isin(bm_)]"
   ]
  },
  {
   "cell_type": "markdown",
   "id": "3531b923",
   "metadata": {},
   "source": [
    "### Battting Average\n",
    "\n",
    "Note: This average is average per match which is not the average actually calculated in cricket where a batsman when stayed not\n",
    "out for a given match, then average is calculated by taking total runs till he gets out as single entity.\n",
    "\n",
    "For that sort of analysis a deeper EDA is required."
   ]
  },
  {
   "cell_type": "code",
   "execution_count": 114,
   "id": "45962e80",
   "metadata": {},
   "outputs": [
    {
     "data": {
      "text/plain": [
       "<AxesSubplot:xlabel='batsman'>"
      ]
     },
     "execution_count": 114,
     "metadata": {},
     "output_type": "execute_result"
    },
    {
     "data": {
      "image/png": "[encoded data removed]",
      "text/plain": [
       "<Figure size 1080x576 with 1 Axes>"
      ]
     },
     "metadata": {
      "needs_background": "light"
     },
     "output_type": "display_data"
    }
   ],
   "source": [
    "bt_df.groupby(['batsman'])['batsman_runs'].mean().sort_values(ascending=False).head(20).drop(['CH Gayle',\n",
    "                                                                                                 'ML Hayden',\n",
    "                                                                                                 'MEK Hussey',\n",
    "                                                                                                 'SR Tendulkar',\n",
    "                                                                                                 'AB de Villiers']).plot(kind=\n",
    "                                                                                                                         'bar')\n"
   ]
  },
  {
   "cell_type": "markdown",
   "id": "62450f0f",
   "metadata": {},
   "source": [
    "#### J bairstow, DA warner are batsman having best batting average per match.(Not traditional batting average)"
   ]
  },
  {
   "cell_type": "markdown",
   "id": "80412a3f",
   "metadata": {},
   "source": [
    "### Best batting average in winning cause."
   ]
  },
  {
   "cell_type": "code",
   "execution_count": 115,
   "id": "7b1cb891",
   "metadata": {},
   "outputs": [
    {
     "data": {
      "text/plain": [
       "<AxesSubplot:xlabel='batsman'>"
      ]
     },
     "execution_count": 115,
     "metadata": {},
     "output_type": "execute_result"
    },
    {
     "data": {
      "image/png": "[encoded data removed]",
      "text/plain": [
       "<Figure size 1080x576 with 1 Axes>"
      ]
     },
     "metadata": {
      "needs_background": "light"
     },
     "output_type": "display_data"
    }
   ],
   "source": [
    "bat_win_cause=dft[dft.batting_team==dft.winner].groupby(['match_id','batsman'],as_index=False)['batsman_runs'].sum()\n",
    "\n",
    "\n",
    "#Removing players not playing ipl anymore\n",
    "bat_win_cause.groupby(['batsman'])['batsman_runs'].mean().sort_values(ascending=False).head(20).drop(['PD Collingwood',\n",
    "                                                                                                     'MEK Hussey',\n",
    "                                                                                                     'AB de Villiers',\n",
    "                                                                                                     'KP Pietersen',\n",
    "                                                                                                     'ML Hayden',\n",
    "                                                                                                     'PC Valthaty',\n",
    "                                                                                                    'GC Smith']).plot(kind='bar')"
   ]
  },
  {
   "cell_type": "markdown",
   "id": "d7041b6b",
   "metadata": {},
   "source": [
    "#### Jason Roy and Hetmeyer are two players having best batting average in winning cause."
   ]
  },
  {
   "cell_type": "markdown",
   "id": "407f1bba",
   "metadata": {},
   "source": [
    "### Bowling Average"
   ]
  },
  {
   "cell_type": "markdown",
   "id": "2a188d17",
   "metadata": {},
   "source": [
    "#### Creating a bowler dataframe for bowling average calculations."
   ]
  },
  {
   "cell_type": "code",
   "execution_count": 116,
   "id": "db88d7d4",
   "metadata": {},
   "outputs": [],
   "source": [
    "bl_df=dft.groupby(['match_id','bowler','over'],as_index=False)['total_runs'].sum()\n",
    "# Lets create a df of bowlers who has bowled minimum of 50 overs\n",
    "\n",
    "over_cnt=bl_df.groupby(['bowler'])['over'].count()\n",
    "bowlers_=over_cnt[over_cnt>49].index\n",
    "\n",
    "#lets filter out such bowlers from original df\n",
    "\n",
    "act_bow=bl_df[bl_df.bowler.isin(bowlers_)]"
   ]
  },
  {
   "cell_type": "code",
   "execution_count": 117,
   "id": "e55ecbaf",
   "metadata": {},
   "outputs": [
    {
     "data": {
      "text/plain": [
       "<AxesSubplot:xlabel='bowler'>"
      ]
     },
     "execution_count": 117,
     "metadata": {},
     "output_type": "execute_result"
    },
    {
     "data": {
      "image/png": "[encoded data removed]",
      "text/plain": [
       "<Figure size 1080x576 with 1 Axes>"
      ]
     },
     "metadata": {
      "needs_background": "light"
     },
     "output_type": "display_data"
    }
   ],
   "source": [
    "bl_avg=act_bow.groupby(['bowler'])['total_runs'].sum()/act_bow.groupby(['bowler'])['over'].count()\n",
    "\n",
    "#Removing players those have retired or not playing ipl anymore and plotting\n",
    "bl_avg.sort_values().head(35).drop(['A Kumble','GD McGrath','DL Vettori','M Muralitharan',\n",
    "                                    'DW Steyn','SL Malinga','SK Warne','SK Raina','JP Duminy','DE Bollinger',\n",
    "                                   'M Kartik','A Mishra','YK Pathan','DP Nannes','Yuvraj Singh','PP Ojha']).plot(kind='bar')"
   ]
  },
  {
   "cell_type": "markdown",
   "id": "2d81e068",
   "metadata": {},
   "source": [
    "#### These are the bowler having least bowling average given that they have bowled atleast 50 overs and currently playing."
   ]
  },
  {
   "cell_type": "markdown",
   "id": "e43dd780",
   "metadata": {},
   "source": [
    "### Wickets for bowler"
   ]
  },
  {
   "cell_type": "code",
   "execution_count": 118,
   "id": "6a192f52",
   "metadata": {},
   "outputs": [
    {
     "data": {
      "text/plain": [
       "<AxesSubplot:xlabel='bowler'>"
      ]
     },
     "execution_count": 118,
     "metadata": {},
     "output_type": "execute_result"
    },
    {
     "data": {
      "image/png": "[encoded data removed]",
      "text/plain": [
       "<Figure size 1080x576 with 1 Axes>"
      ]
     },
     "metadata": {
      "needs_background": "light"
     },
     "output_type": "display_data"
    }
   ],
   "source": [
    "# Separating all the ball that a wicket fell which is not of 'run out','obstructing the field','retired hurt' kind\n",
    "wkt_type=dft.dismissal_kind.value_counts().drop(['run out','obstructing the field','retired hurt']).index\n",
    "wkt_balls=dft[dft.dismissal_kind.isin(wkt_type)]\n",
    "\n",
    "#Removing players not playing ipl anymore and plotting\n",
    "wkt_balls.groupby(['bowler'])['dismissal_kind'].count().sort_values(ascending\n",
    "                                                                    =False).head(30).drop(['SL Malinga',\n",
    "                                                                                          'A Mishra',\n",
    "                                                                                          'Harbhajan Singh',\n",
    "                                                                                          'PP Chawla','A Nehra',\n",
    "                                                                                           'R Vinay Kumar',\n",
    "                                                                                           'Z Khan',\n",
    "                                                                                          'DW Steyn',\n",
    "                                                                                          'SR Watson',\n",
    "                                                                                          'MM Sharma',\n",
    "                                                                                          'P Kumar',\n",
    "                                                                                          'RP Singh',\n",
    "                                                                                           'PP Ojha',\n",
    "                                                                                          'JA Morkel',\n",
    "                                                                                          'IK Pathan',\n",
    "                                                                                          'M Morkel',\n",
    "                                                                                          'Imran Tahir',\n",
    "                                                                                          'L Balaji',\n",
    "                                                                                          'MM Patel']).plot(kind='bar')"
   ]
  },
  {
   "cell_type": "markdown",
   "id": "f08b34d4",
   "metadata": {},
   "source": [
    "#### These are current playing players having most wickets in IPL"
   ]
  },
  {
   "cell_type": "markdown",
   "id": "6a1eb301",
   "metadata": {},
   "source": [
    "### Most wicket for year 2015 and beyond."
   ]
  },
  {
   "cell_type": "code",
   "execution_count": 119,
   "id": "00783b3d",
   "metadata": {},
   "outputs": [
    {
     "data": {
      "text/plain": [
       "<AxesSubplot:xlabel='bowler'>"
      ]
     },
     "execution_count": 119,
     "metadata": {},
     "output_type": "execute_result"
    },
    {
     "data": {
      "image/png": "[encoded data removed]",
      "text/plain": [
       "<Figure size 1080x576 with 1 Axes>"
      ]
     },
     "metadata": {
      "needs_background": "light"
     },
     "output_type": "display_data"
    }
   ],
   "source": [
    "#As this contains too many legends who are not playing lets take a look at players wicket after 2015\n",
    "\n",
    "rcnt_wckt_balls=wkt_balls[wkt_balls.date>'2014']\n",
    "rcnt_wckt_balls.groupby(['bowler'])['dismissal_kind'].count().sort_values(ascending\n",
    "                                                                    =False).head(30).drop(['Imran Tahir',\n",
    "                                                                                           'Harbhajan Singh',\n",
    "                                                                                          'SL Malinga',\n",
    "                                                                                          'PP Chawla',\n",
    "                                                                                          'A Mishra',\n",
    "                                                                                          'A Nehra',\n",
    "                                                                                           'SR Watson'\n",
    "                                                                                          ]).plot(kind='bar')"
   ]
  },
  {
   "cell_type": "markdown",
   "id": "773b1cc8",
   "metadata": {},
   "source": [
    "#### These are most wicket takers in recent times"
   ]
  },
  {
   "cell_type": "code",
   "execution_count": null,
   "id": "6b0db7b0",
   "metadata": {},
   "outputs": [],
   "source": []
  },
  {
   "cell_type": "markdown",
   "id": "d7d0f23c",
   "metadata": {},
   "source": [
    "### Most wicket in winning cause in recent times."
   ]
  },
  {
   "cell_type": "code",
   "execution_count": 120,
   "id": "5cab3e31",
   "metadata": {},
   "outputs": [
    {
     "data": {
      "text/plain": [
       "<AxesSubplot:xlabel='bowler'>"
      ]
     },
     "execution_count": 120,
     "metadata": {},
     "output_type": "execute_result"
    },
    {
     "data": {
      "image/png": "[encoded data removed]",
      "text/plain": [
       "<Figure size 1080x576 with 1 Axes>"
      ]
     },
     "metadata": {
      "needs_background": "light"
     },
     "output_type": "display_data"
    }
   ],
   "source": [
    "\n",
    "win_cause_wck=rcnt_wckt_balls[rcnt_wckt_balls.bowling_team==rcnt_wckt_balls.winner]\n",
    "win_cause_wck.groupby(['bowler'])['dismissal_kind'].count().sort_values(ascending\n",
    "                                                                    =False).head(30).drop(['Imran Tahir',\n",
    "                                                                                           'Harbhajan Singh',\n",
    "                                                                                          'SL Malinga',\n",
    "                                                                                          'PP Chawla',\n",
    "                                                                                          'A Mishra',\n",
    "                                                                                          'A Nehra',\n",
    "                                                                                           'SR Watson'\n",
    "                                                                                          ]).plot(kind='bar')"
   ]
  },
  {
   "cell_type": "markdown",
   "id": "9558f75f",
   "metadata": {},
   "source": [
    "#### These are most wicket takers resulting in win of their team."
   ]
  },
  {
   "cell_type": "markdown",
   "id": "43dbb9cf",
   "metadata": {},
   "source": [
    "## 3.Factors affecting win or loss"
   ]
  },
  {
   "cell_type": "code",
   "execution_count": 121,
   "id": "b6fa323e",
   "metadata": {},
   "outputs": [
    {
     "data": {
      "text/html": [
       "<div>\n",
       "<style scoped>\n",
       "    .dataframe tbody tr th:only-of-type {\n",
       "        vertical-align: middle;\n",
       "    }\n",
       "\n",
       "    .dataframe tbody tr th {\n",
       "        vertical-align: top;\n",
       "    }\n",
       "\n",
       "    .dataframe thead th {\n",
       "        text-align: right;\n",
       "    }\n",
       "</style>\n",
       "<table border=\"1\" class=\"dataframe\">\n",
       "  <thead>\n",
       "    <tr style=\"text-align: right;\">\n",
       "      <th></th>\n",
       "      <th>match_id</th>\n",
       "      <th>inning</th>\n",
       "      <th>batting_team</th>\n",
       "      <th>bowling_team</th>\n",
       "      <th>over</th>\n",
       "      <th>ball</th>\n",
       "      <th>batsman</th>\n",
       "      <th>non_striker</th>\n",
       "      <th>bowler</th>\n",
       "      <th>is_super_over</th>\n",
       "      <th>...</th>\n",
       "      <th>team2</th>\n",
       "      <th>toss_winner</th>\n",
       "      <th>toss_decision</th>\n",
       "      <th>result</th>\n",
       "      <th>dl_applied</th>\n",
       "      <th>winner</th>\n",
       "      <th>win_by_runs</th>\n",
       "      <th>win_by_wickets</th>\n",
       "      <th>player_of_match</th>\n",
       "      <th>venue</th>\n",
       "    </tr>\n",
       "  </thead>\n",
       "  <tbody>\n",
       "    <tr>\n",
       "      <th>0</th>\n",
       "      <td>1</td>\n",
       "      <td>1</td>\n",
       "      <td>Sunrisers Hyderabad</td>\n",
       "      <td>Royal Challengers Bangalore</td>\n",
       "      <td>1</td>\n",
       "      <td>1</td>\n",
       "      <td>DA Warner</td>\n",
       "      <td>S Dhawan</td>\n",
       "      <td>TS Mills</td>\n",
       "      <td>0</td>\n",
       "      <td>...</td>\n",
       "      <td>Royal Challengers Bangalore</td>\n",
       "      <td>Royal Challengers Bangalore</td>\n",
       "      <td>field</td>\n",
       "      <td>normal</td>\n",
       "      <td>0</td>\n",
       "      <td>Sunrisers Hyderabad</td>\n",
       "      <td>35</td>\n",
       "      <td>0</td>\n",
       "      <td>Yuvraj Singh</td>\n",
       "      <td>Rajiv Gandhi International Stadium, Uppal</td>\n",
       "    </tr>\n",
       "    <tr>\n",
       "      <th>1</th>\n",
       "      <td>1</td>\n",
       "      <td>1</td>\n",
       "      <td>Sunrisers Hyderabad</td>\n",
       "      <td>Royal Challengers Bangalore</td>\n",
       "      <td>1</td>\n",
       "      <td>2</td>\n",
       "      <td>DA Warner</td>\n",
       "      <td>S Dhawan</td>\n",
       "      <td>TS Mills</td>\n",
       "      <td>0</td>\n",
       "      <td>...</td>\n",
       "      <td>Royal Challengers Bangalore</td>\n",
       "      <td>Royal Challengers Bangalore</td>\n",
       "      <td>field</td>\n",
       "      <td>normal</td>\n",
       "      <td>0</td>\n",
       "      <td>Sunrisers Hyderabad</td>\n",
       "      <td>35</td>\n",
       "      <td>0</td>\n",
       "      <td>Yuvraj Singh</td>\n",
       "      <td>Rajiv Gandhi International Stadium, Uppal</td>\n",
       "    </tr>\n",
       "  </tbody>\n",
       "</table>\n",
       "<p>2 rows × 35 columns</p>\n",
       "</div>"
      ],
      "text/plain": [
       "   match_id  inning         batting_team                 bowling_team  over  \\\n",
       "0         1       1  Sunrisers Hyderabad  Royal Challengers Bangalore     1   \n",
       "1         1       1  Sunrisers Hyderabad  Royal Challengers Bangalore     1   \n",
       "\n",
       "   ball    batsman non_striker    bowler  is_super_over  ...  \\\n",
       "0     1  DA Warner    S Dhawan  TS Mills              0  ...   \n",
       "1     2  DA Warner    S Dhawan  TS Mills              0  ...   \n",
       "\n",
       "                         team2                  toss_winner  toss_decision  \\\n",
       "0  Royal Challengers Bangalore  Royal Challengers Bangalore          field   \n",
       "1  Royal Challengers Bangalore  Royal Challengers Bangalore          field   \n",
       "\n",
       "   result  dl_applied               winner  win_by_runs  win_by_wickets  \\\n",
       "0  normal           0  Sunrisers Hyderabad           35               0   \n",
       "1  normal           0  Sunrisers Hyderabad           35               0   \n",
       "\n",
       "  player_of_match                                      venue  \n",
       "0    Yuvraj Singh  Rajiv Gandhi International Stadium, Uppal  \n",
       "1    Yuvraj Singh  Rajiv Gandhi International Stadium, Uppal  \n",
       "\n",
       "[2 rows x 35 columns]"
      ]
     },
     "execution_count": 121,
     "metadata": {},
     "output_type": "execute_result"
    }
   ],
   "source": [
    "dft.head(2)"
   ]
  },
  {
   "cell_type": "code",
   "execution_count": 122,
   "id": "d80aa9e6",
   "metadata": {},
   "outputs": [],
   "source": [
    "#Creating extra runs columns\n",
    "dft['total_extra_runs']=dft.iloc[:,10:15].sum(axis=1)\n",
    "\n",
    "# Creating a dataframe containing only losses for bowling team\n",
    "\n",
    "df_loss=dft[dft.bowling_team!=dft.winner]\n",
    "tot_match=df_loss.bowling_team.value_counts()\n",
    "(df_loss.groupby('bowling_team')['total_extra_runs'].sum()/tot_match).sort_values(ascending=False).drop(index=['Deccan Chargers',\n",
    "                                                                                                   'Kochi Tuskers Kerala',\n",
    "                                                                                                   'Gujarat Lions',\n",
    "                                                                                                'Rising Pune Supergiants',\n",
    "                                                                                                   'Pune Warriors']).plot(kind='bar')\n",
    "                 "
   ]
  },
  {
   "cell_type": "code",
   "execution_count": 142,
   "id": "ca9de697",
   "metadata": {},
   "outputs": [
    {
     "data": {
      "text/plain": [
       "<AxesSubplot:>"
      ]
     },
     "execution_count": 142,
     "metadata": {},
     "output_type": "execute_result"
    },
    {
     "data": {
      "image/png": "[encoded data removed]",
      "text/plain": [
       "<Figure size 1080x576 with 1 Axes>"
      ]
     },
     "metadata": {
      "needs_background": "light"
     },
     "output_type": "display_data"
    }
   ],
   "source": [
    "df_loss=dft[dft.bowling_team!=dft.winner]\n",
    "tot_match=df_loss.bowling_team.value_counts()\n",
    "(df_loss.groupby('bowling_team')['total_extra_runs'].sum()/tot_match).sort_values(ascending=False).drop(index=['Deccan Chargers',\n",
    "                                                                                                   'Kochi Tuskers Kerala',\n",
    "                                                                                                   'Gujarat Lions',\n",
    "                                                                                                'Rising Pune Supergiants',\n",
    "                                                                                                   'Pune Warriors']).plot(kind='bar')\n",
    "                 "
   ]
  },
  {
   "cell_type": "markdown",
   "id": "16ee5ee3",
   "metadata": {},
   "source": [
    "#### RCB and RR are teams which are most probable to loose if they give too much of extra runs."
   ]
  },
  {
   "cell_type": "code",
   "execution_count": 180,
   "id": "01a06b77",
   "metadata": {},
   "outputs": [
    {
     "name": "stdout",
     "output_type": "stream",
     "text": [
      "Odds of winning a superover while batting first 1.33\n"
     ]
    }
   ],
   "source": [
    "#Creating a superover dataframe\n",
    "dft_so=dft[(dft.match_id.isin(list(df_so.match_id.unique()))) & (dft.inning.isin((3,4)))]\n",
    "\n",
    "#Creating dataframe containung only following columns\n",
    "rdf=dft_so[['match_id','batting_team','bowling_team','winner']]\n",
    "\n",
    "#Filtering df to get accurate idea of team batting first or second\n",
    "cdf=rdf[rdf.duplicated()==False]\n",
    "\n",
    "#Finally getting the required df\n",
    "rdf=cdf[cdf.match_id.duplicated()==False]\n",
    "\n",
    "odds=rdf[rdf.batting_team==rdf.winner].shape[0]/rdf[rdf.batting_team!=rdf.winner].shape[0]\n",
    "\n",
    "print('Odds of winning a superover while batting first',round(odds,2))"
   ]
  },
  {
   "cell_type": "markdown",
   "id": "63171487",
   "metadata": {},
   "source": [
    "#### Odds of winning a superover while batting first is 1.33 i.e. 4/3"
   ]
  },
  {
   "cell_type": "markdown",
   "id": "b0113bbd",
   "metadata": {},
   "source": [
    "# Summary"
   ]
  },
  {
   "cell_type": "markdown",
   "id": "186490bc",
   "metadata": {},
   "source": [
    "## 1. Summary for teams"
   ]
  },
  {
   "cell_type": "markdown",
   "id": "595d9e97",
   "metadata": {},
   "source": [
    "#### Calculating a final rank from rank_df that we updated step wise.\n",
    "#### Team obtaining lowest sum of ranks is the best team"
   ]
  },
  {
   "cell_type": "code",
   "execution_count": 54,
   "id": "e37eefb9",
   "metadata": {},
   "outputs": [
    {
     "data": {
      "text/html": [
       "<div>\n",
       "<style scoped>\n",
       "    .dataframe tbody tr th:only-of-type {\n",
       "        vertical-align: middle;\n",
       "    }\n",
       "\n",
       "    .dataframe tbody tr th {\n",
       "        vertical-align: top;\n",
       "    }\n",
       "\n",
       "    .dataframe thead th {\n",
       "        text-align: right;\n",
       "    }\n",
       "</style>\n",
       "<table border=\"1\" class=\"dataframe\">\n",
       "  <thead>\n",
       "    <tr style=\"text-align: right;\">\n",
       "      <th></th>\n",
       "      <th>Total_Wins</th>\n",
       "      <th>Avg_Wins</th>\n",
       "      <th>Win_after_toss_win</th>\n",
       "      <th>Win_after_toss_loss</th>\n",
       "      <th>Win_while_defending</th>\n",
       "      <th>Win_while_chasing</th>\n",
       "      <th>Wins_by_runs</th>\n",
       "      <th>Win_by_wickets</th>\n",
       "      <th>Final_Rank</th>\n",
       "    </tr>\n",
       "  </thead>\n",
       "  <tbody>\n",
       "    <tr>\n",
       "      <th>Mumbai Indians</th>\n",
       "      <td>1.0</td>\n",
       "      <td>2.0</td>\n",
       "      <td>5.0</td>\n",
       "      <td>4.0</td>\n",
       "      <td>1.0</td>\n",
       "      <td>8.0</td>\n",
       "      <td>2.0</td>\n",
       "      <td>3.0</td>\n",
       "      <td>1.0</td>\n",
       "    </tr>\n",
       "    <tr>\n",
       "      <th>Chennai Super Kings</th>\n",
       "      <td>2.0</td>\n",
       "      <td>1.0</td>\n",
       "      <td>2.0</td>\n",
       "      <td>7.0</td>\n",
       "      <td>3.0</td>\n",
       "      <td>6.0</td>\n",
       "      <td>4.0</td>\n",
       "      <td>3.0</td>\n",
       "      <td>2.0</td>\n",
       "    </tr>\n",
       "    <tr>\n",
       "      <th>Kolkata Knight Riders</th>\n",
       "      <td>3.0</td>\n",
       "      <td>4.0</td>\n",
       "      <td>1.0</td>\n",
       "      <td>8.0</td>\n",
       "      <td>7.0</td>\n",
       "      <td>2.0</td>\n",
       "      <td>3.0</td>\n",
       "      <td>2.0</td>\n",
       "      <td>3.0</td>\n",
       "    </tr>\n",
       "    <tr>\n",
       "      <th>Rajasthan Royals</th>\n",
       "      <td>7.0</td>\n",
       "      <td>5.0</td>\n",
       "      <td>3.0</td>\n",
       "      <td>6.0</td>\n",
       "      <td>6.0</td>\n",
       "      <td>3.0</td>\n",
       "      <td>1.0</td>\n",
       "      <td>1.0</td>\n",
       "      <td>4.0</td>\n",
       "    </tr>\n",
       "    <tr>\n",
       "      <th>Royal Challengers Bangalore</th>\n",
       "      <td>4.0</td>\n",
       "      <td>6.0</td>\n",
       "      <td>6.0</td>\n",
       "      <td>3.0</td>\n",
       "      <td>5.0</td>\n",
       "      <td>4.0</td>\n",
       "      <td>6.0</td>\n",
       "      <td>3.0</td>\n",
       "      <td>5.0</td>\n",
       "    </tr>\n",
       "    <tr>\n",
       "      <th>Kings XI Punjab</th>\n",
       "      <td>5.0</td>\n",
       "      <td>7.0</td>\n",
       "      <td>7.0</td>\n",
       "      <td>2.0</td>\n",
       "      <td>4.0</td>\n",
       "      <td>5.0</td>\n",
       "      <td>7.0</td>\n",
       "      <td>2.0</td>\n",
       "      <td>6.0</td>\n",
       "    </tr>\n",
       "    <tr>\n",
       "      <th>Delhi Capitals</th>\n",
       "      <td>6.0</td>\n",
       "      <td>8.0</td>\n",
       "      <td>4.0</td>\n",
       "      <td>5.0</td>\n",
       "      <td>8.0</td>\n",
       "      <td>1.0</td>\n",
       "      <td>5.0</td>\n",
       "      <td>2.0</td>\n",
       "      <td>6.0</td>\n",
       "    </tr>\n",
       "    <tr>\n",
       "      <th>Sunrisers Hyderabad</th>\n",
       "      <td>8.0</td>\n",
       "      <td>3.0</td>\n",
       "      <td>8.0</td>\n",
       "      <td>1.0</td>\n",
       "      <td>2.0</td>\n",
       "      <td>7.0</td>\n",
       "      <td>8.0</td>\n",
       "      <td>3.0</td>\n",
       "      <td>8.0</td>\n",
       "    </tr>\n",
       "  </tbody>\n",
       "</table>\n",
       "</div>"
      ],
      "text/plain": [
       "                             Total_Wins  Avg_Wins  Win_after_toss_win  \\\n",
       "Mumbai Indians                      1.0       2.0                 5.0   \n",
       "Chennai Super Kings                 2.0       1.0                 2.0   \n",
       "Kolkata Knight Riders               3.0       4.0                 1.0   \n",
       "Rajasthan Royals                    7.0       5.0                 3.0   \n",
       "Royal Challengers Bangalore         4.0       6.0                 6.0   \n",
       "Kings XI Punjab                     5.0       7.0                 7.0   \n",
       "Delhi Capitals                      6.0       8.0                 4.0   \n",
       "Sunrisers Hyderabad                 8.0       3.0                 8.0   \n",
       "\n",
       "                             Win_after_toss_loss  Win_while_defending  \\\n",
       "Mumbai Indians                               4.0                  1.0   \n",
       "Chennai Super Kings                          7.0                  3.0   \n",
       "Kolkata Knight Riders                        8.0                  7.0   \n",
       "Rajasthan Royals                             6.0                  6.0   \n",
       "Royal Challengers Bangalore                  3.0                  5.0   \n",
       "Kings XI Punjab                              2.0                  4.0   \n",
       "Delhi Capitals                               5.0                  8.0   \n",
       "Sunrisers Hyderabad                          1.0                  2.0   \n",
       "\n",
       "                             Win_while_chasing  Wins_by_runs  Win_by_wickets  \\\n",
       "Mumbai Indians                             8.0           2.0             3.0   \n",
       "Chennai Super Kings                        6.0           4.0             3.0   \n",
       "Kolkata Knight Riders                      2.0           3.0             2.0   \n",
       "Rajasthan Royals                           3.0           1.0             1.0   \n",
       "Royal Challengers Bangalore                4.0           6.0             3.0   \n",
       "Kings XI Punjab                            5.0           7.0             2.0   \n",
       "Delhi Capitals                             1.0           5.0             2.0   \n",
       "Sunrisers Hyderabad                        7.0           8.0             3.0   \n",
       "\n",
       "                             Final_Rank  \n",
       "Mumbai Indians                      1.0  \n",
       "Chennai Super Kings                 2.0  \n",
       "Kolkata Knight Riders               3.0  \n",
       "Rajasthan Royals                    4.0  \n",
       "Royal Challengers Bangalore         5.0  \n",
       "Kings XI Punjab                     6.0  \n",
       "Delhi Capitals                      6.0  \n",
       "Sunrisers Hyderabad                 8.0  "
      ]
     },
     "execution_count": 54,
     "metadata": {},
     "output_type": "execute_result"
    }
   ],
   "source": [
    "final_rank=pd.DataFrame(rank_df.sum(axis=1).rank(method='min').sort_values(),columns=['Total_Rank'])\n",
    "rank_df['Final_Rank']=final_rank\n",
    "rank_df.sort_values(by='Final_Rank')"
   ]
  },
  {
   "cell_type": "markdown",
   "id": "e1512216",
   "metadata": {},
   "source": [
    "#### 1. It's better to decide with the ranking before going for advertisement with above teams.\n",
    "#### 2. The fan base of such teams are found to be in given order\n",
    "####        [CSK    MI    RCB]\n",
    "\n",
    "\n",
    "#### 3. These 3 teams constitute 75% of total fan base(sorce: cricketaddictor.com)\n",
    "#### 4. Final decision should be taken considering other factors which we cant control."
   ]
  },
  {
   "cell_type": "markdown",
   "id": "68d58a7f",
   "metadata": {},
   "source": [
    "### Actions"
   ]
  },
  {
   "cell_type": "markdown",
   "id": "99bf50ed",
   "metadata": {},
   "source": [
    "#### We can directly go for CSK shirt sponsorship\n",
    "#### We can also segregate smaller kiit sponsorships e.g helmet, sleeve sponsor for these three teams for larger viewership."
   ]
  },
  {
   "cell_type": "markdown",
   "id": "449225dd",
   "metadata": {},
   "source": [
    "### 2. Summary about players."
   ]
  },
  {
   "cell_type": "markdown",
   "id": "604a08a9",
   "metadata": {},
   "source": [
    "#### 1. We can go for bat sponsorship for Hetmeyer,RR Pant as these two represent foreign and Indian player having best \n",
    "#### batting average in winning cause.\n",
    "\n",
    "#### 2. In recent times, the list of bowlers is given below for which there post in instagram can be sponsored by us.\n",
    "#### [B Kumar,YJ Chahal,RA Jadeja,SP Narine]"
   ]
  },
  {
   "cell_type": "markdown",
   "id": "a6e1e821",
   "metadata": {},
   "source": [
    "### 3. Factors to look out for"
   ]
  },
  {
   "cell_type": "markdown",
   "id": "b872cd6a",
   "metadata": {},
   "source": [
    "#### 1. If RCB gives too much of extra runs, team is most probable to loose.\n",
    "#### 2. Odds of team winning a superover while batting first is 1.33 times batting second."
   ]
  },
  {
   "cell_type": "code",
   "execution_count": null,
   "id": "e70a4d07",
   "metadata": {},
   "outputs": [],
   "source": []
  }
 ],
 "metadata": {
  "kernelspec": {
   "display_name": "Python 3",
   "language": "python",
   "name": "python3"
  },
  "language_info": {
   "codemirror_mode": {
    "name": "ipython",
    "version": 3
   },
   "file_extension": ".py",
   "mimetype": "text/x-python",
   "name": "python",
   "nbconvert_exporter": "python",
   "pygments_lexer": "ipython3",
   "version": "3.8.8"
  }
 },
 "nbformat": 4,
 "nbformat_minor": 5
}
